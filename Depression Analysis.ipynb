{
 "cells": [
  {
   "cell_type": "markdown",
   "id": "5d45f893",
   "metadata": {},
   "source": [
    "# UNDERSTANDING THE DATA"
   ]
  },
  {
   "cell_type": "markdown",
   "id": "ef0afac3",
   "metadata": {},
   "source": [
    "\n",
    "### Data Source: [Kaggle](https://www.kaggle.com/datasets/shahzadahmad0402/depression-and-anxiety-data)\n",
    "### Variables Used for this Analysis:\n",
    "1. **phq_score:** A score evaluated from an assessment known as the Patient Health Questionairre (PHQ) to determine the severity of mental health problems such as depression. You can learn more about it [here](https://neurospatms.com/everything-you-need-to-know-about-the-phq-9-test/).\n",
    "    - 0 - 4: None-minimal or Normal\n",
    "    - 5 - 9: Mild\n",
    "    - 10 - 14: Moderate\n",
    "    - 15 - 19: Moderately-severe\n",
    "    - 20 - 24: Severe\n",
    "2. **depression_severity:** Estimated from the **phq_score**.\n",
    "3. **depressiveness:** Whether the participant has clinical depression or not.\n",
    "4. **depression_diagnosis:** Diagnosis by a mental health specialist as clinically depressed or not.\n",
    "5. **depression_treatment:** Undergoing treatment or not.\n",
    "6. **suicidal:** Likelihood of committing suicide with True being most likely.\n",
    "7. **gad_score:** A score evaluated from an assessment known as Generalized Anxiety Disorder-7 (GAD-7) questionairre to determine the severity of one's anxiety. You can learn more about it [here](https://www.corc.uk.net/outcome-experience-measures/generalised-anxiety-disorder-assessment-gad-7/).\n",
    "    - 0 - 4: None-minimal or Normal\n",
    "    - 5 - 9: Mild\n",
    "    - 10 - 14: Moderate\n",
    "    - 15 - 21: Severe\n",
    "8. **anxiety_severity:** Estimated from the **gad_score**.\n",
    "9. **anxiety_diagnosis:** Diagnosis by a mental health specialist as having Generalized Anxiety Disorder or not.\n",
    "10. **anxiety_treatment:** Undergoing anxiety treatment or not.\n",
    "11. **epworth_score:** A test score used to measure daytime sleepiness. You can learn more about it, or even take yours [here](https://healthysleep.med.harvard.edu/narcolepsy/diagnosing-narcolepsy/epworth-sleepiness-scale).\n",
    "    - 0 - 10: Normal range in healthy adults\n",
    "    - 11 - 14: Mild sleepiness\n",
    "    - 15 - 17: Moderate sleepiness\n",
    "    - 18 - 24: Severe sleepiness\n",
    "12. **sleepiness:** Likelihood of daytime sleepiness with True being most likely estimated from the **epworth_score**.\n",
    "13. **bmi:** Body Mass Index of participant measured in kg/m²\n",
    "14. **who_bmi:** The various categories of nutritional health by Body Mass Index(BMI) according to the WHO. To learn more about it, click [here](https://www.who.int/europe/news-room/fact-sheets/item/a-healthy-lifestyle---who-recommendations).\n",
    "    - Below 18.5: Underweight\n",
    "    - 18.5 - 24.9: Normal weight\n",
    "    - 25.0 - 29.9: Pre-obesity/Overweight\n",
    "    - 30.0 - 34.9: Class I Obesity\n",
    "    - 35.0 - 39.9: Class II Obesity\n",
    "    - Above 40: Class III Obesity\n",
    "15. **age:** Age of participant ranging from 18 - 31.\n",
    "16. **gender:** Sex of participant i.e either Male or Female.\n",
    "17. **school_year:** Current school year ranging from 1 - 4.\n"
   ]
  },
  {
   "cell_type": "code",
   "execution_count": 1,
   "id": "330e1df1",
   "metadata": {},
   "outputs": [],
   "source": [
    "#Importing Libraries\n",
    "import pandas as pd\n",
    "import numpy as np\n",
    "import matplotlib.pyplot as plt\n",
    "import seaborn as sns\n",
    "import plotly.express as px\n",
    "from sklearn.preprocessing import StandardScaler\n",
    "from sklearn.model_selection import train_test_split, cross_val_score, GridSearchCV, KFold\n",
    "from sklearn.metrics import accuracy_score, roc_auc_score, classification_report, confusion_matrix\n",
    "from sklearn.neighbors import KNeighborsClassifier\n",
    "from sklearn.linear_model import LogisticRegression\n",
    "from sklearn.ensemble import VotingClassifier, RandomForestClassifier\n",
    "from sklearn.tree import DecisionTreeClassifier\n",
    "from sklearn.decomposition import PCA\n",
    "from imblearn.under_sampling import RandomUnderSampler\n",
    "from imblearn.over_sampling import SMOTE\n",
    "from imblearn.pipeline import Pipeline"
   ]
  },
  {
   "cell_type": "code",
   "execution_count": 2,
   "id": "f4c56a4e",
   "metadata": {},
   "outputs": [],
   "source": [
    "df = pd.read_csv('depression.csv')"
   ]
  },
  {
   "cell_type": "code",
   "execution_count": 3,
   "id": "927a8992",
   "metadata": {},
   "outputs": [
    {
     "data": {
      "text/html": [
       "<div>\n",
       "<style scoped>\n",
       "    .dataframe tbody tr th:only-of-type {\n",
       "        vertical-align: middle;\n",
       "    }\n",
       "\n",
       "    .dataframe tbody tr th {\n",
       "        vertical-align: top;\n",
       "    }\n",
       "\n",
       "    .dataframe thead th {\n",
       "        text-align: right;\n",
       "    }\n",
       "</style>\n",
       "<table border=\"1\" class=\"dataframe\">\n",
       "  <thead>\n",
       "    <tr style=\"text-align: right;\">\n",
       "      <th></th>\n",
       "      <th>id</th>\n",
       "      <th>school_year</th>\n",
       "      <th>age</th>\n",
       "      <th>gender</th>\n",
       "      <th>bmi</th>\n",
       "      <th>who_bmi</th>\n",
       "      <th>phq_score</th>\n",
       "      <th>depression_severity</th>\n",
       "      <th>depressiveness</th>\n",
       "      <th>suicidal</th>\n",
       "      <th>depression_diagnosis</th>\n",
       "      <th>depression_treatment</th>\n",
       "      <th>gad_score</th>\n",
       "      <th>anxiety_severity</th>\n",
       "      <th>anxiousness</th>\n",
       "      <th>anxiety_diagnosis</th>\n",
       "      <th>anxiety_treatment</th>\n",
       "      <th>epworth_score</th>\n",
       "      <th>sleepiness</th>\n",
       "    </tr>\n",
       "  </thead>\n",
       "  <tbody>\n",
       "    <tr>\n",
       "      <th>0</th>\n",
       "      <td>1</td>\n",
       "      <td>1</td>\n",
       "      <td>19</td>\n",
       "      <td>male</td>\n",
       "      <td>33.333333</td>\n",
       "      <td>Class I Obesity</td>\n",
       "      <td>9</td>\n",
       "      <td>Mild</td>\n",
       "      <td>False</td>\n",
       "      <td>False</td>\n",
       "      <td>False</td>\n",
       "      <td>False</td>\n",
       "      <td>11</td>\n",
       "      <td>Moderate</td>\n",
       "      <td>True</td>\n",
       "      <td>False</td>\n",
       "      <td>False</td>\n",
       "      <td>7.0</td>\n",
       "      <td>False</td>\n",
       "    </tr>\n",
       "    <tr>\n",
       "      <th>1</th>\n",
       "      <td>2</td>\n",
       "      <td>1</td>\n",
       "      <td>18</td>\n",
       "      <td>male</td>\n",
       "      <td>19.841270</td>\n",
       "      <td>Normal</td>\n",
       "      <td>8</td>\n",
       "      <td>Mild</td>\n",
       "      <td>False</td>\n",
       "      <td>False</td>\n",
       "      <td>False</td>\n",
       "      <td>False</td>\n",
       "      <td>5</td>\n",
       "      <td>Mild</td>\n",
       "      <td>False</td>\n",
       "      <td>False</td>\n",
       "      <td>False</td>\n",
       "      <td>14.0</td>\n",
       "      <td>True</td>\n",
       "    </tr>\n",
       "    <tr>\n",
       "      <th>2</th>\n",
       "      <td>3</td>\n",
       "      <td>1</td>\n",
       "      <td>19</td>\n",
       "      <td>male</td>\n",
       "      <td>25.102391</td>\n",
       "      <td>Overweight</td>\n",
       "      <td>8</td>\n",
       "      <td>Mild</td>\n",
       "      <td>False</td>\n",
       "      <td>False</td>\n",
       "      <td>False</td>\n",
       "      <td>False</td>\n",
       "      <td>6</td>\n",
       "      <td>Mild</td>\n",
       "      <td>False</td>\n",
       "      <td>False</td>\n",
       "      <td>False</td>\n",
       "      <td>6.0</td>\n",
       "      <td>False</td>\n",
       "    </tr>\n",
       "  </tbody>\n",
       "</table>\n",
       "</div>"
      ],
      "text/plain": [
       "   id  school_year  age gender        bmi          who_bmi  phq_score  \\\n",
       "0   1            1   19   male  33.333333  Class I Obesity          9   \n",
       "1   2            1   18   male  19.841270           Normal          8   \n",
       "2   3            1   19   male  25.102391       Overweight          8   \n",
       "\n",
       "  depression_severity depressiveness suicidal depression_diagnosis  \\\n",
       "0                Mild          False    False                False   \n",
       "1                Mild          False    False                False   \n",
       "2                Mild          False    False                False   \n",
       "\n",
       "  depression_treatment  gad_score anxiety_severity anxiousness  \\\n",
       "0                False         11         Moderate        True   \n",
       "1                False          5             Mild       False   \n",
       "2                False          6             Mild       False   \n",
       "\n",
       "  anxiety_diagnosis anxiety_treatment  epworth_score sleepiness  \n",
       "0             False             False            7.0      False  \n",
       "1             False             False           14.0       True  \n",
       "2             False             False            6.0      False  "
      ]
     },
     "execution_count": 3,
     "metadata": {},
     "output_type": "execute_result"
    }
   ],
   "source": [
    "df.head(3)"
   ]
  },
  {
   "cell_type": "markdown",
   "id": "9820db55",
   "metadata": {},
   "source": [
    "# DATA WRANGLING & CLEANING"
   ]
  },
  {
   "cell_type": "markdown",
   "id": "90227b50",
   "metadata": {},
   "source": [
    "This phase of the Data Science workflow is performed under the following steps:\n",
    "1. Dropping rows with missing values (less than 5% of dataset)\n",
    "2. Handling out of range data\n",
    "3. Dealing with incorrect data types\n",
    "4. Dealing with outliers\n",
    "5. Removing duplicates\n",
    "6. Resampling to obtain a stratified sample of gender and school year"
   ]
  },
  {
   "cell_type": "code",
   "execution_count": 4,
   "id": "cc92feb5",
   "metadata": {},
   "outputs": [
    {
     "data": {
      "text/plain": [
       "id                      0\n",
       "school_year             0\n",
       "age                     0\n",
       "gender                  0\n",
       "bmi                     0\n",
       "who_bmi                 0\n",
       "phq_score               0\n",
       "depression_severity     4\n",
       "depressiveness          3\n",
       "suicidal                1\n",
       "depression_diagnosis    1\n",
       "depression_treatment    4\n",
       "gad_score               0\n",
       "anxiety_severity        0\n",
       "anxiousness             6\n",
       "anxiety_diagnosis       4\n",
       "anxiety_treatment       2\n",
       "epworth_score           8\n",
       "sleepiness              8\n",
       "dtype: int64"
      ]
     },
     "execution_count": 4,
     "metadata": {},
     "output_type": "execute_result"
    }
   ],
   "source": [
    "#Checking for missing values\n",
    "df.isna().sum()"
   ]
  },
  {
   "cell_type": "code",
   "execution_count": 5,
   "id": "118de42b",
   "metadata": {},
   "outputs": [],
   "source": [
    "#Dropping missing values\n",
    "df.dropna(inplace=True)"
   ]
  },
  {
   "cell_type": "code",
   "execution_count": 6,
   "id": "4dd6bb50",
   "metadata": {},
   "outputs": [
    {
     "name": "stdout",
     "output_type": "stream",
     "text": [
      "school_year: [1 2 3 4] \n",
      "\n",
      "who_bmi: ['Class I Obesity' 'Class II Obesity' 'Class III Obesity' 'Normal'\n",
      " 'Not Availble' 'Overweight' 'Underweight'] \n",
      "\n",
      "phq_score: [ 0  1  2  3  4  5  6  7  8  9 10 11 12 13 14 15 16 17 18 19 20 21 23 24] \n",
      "\n",
      "depression_severity: ['Mild' 'Moderate' 'Moderately severe' 'None-minimal' 'Severe' 'none'] \n",
      "\n",
      "depressiveness: [False True] \n",
      "\n",
      "suicidal: [False True] \n",
      "\n",
      "depression_diagnosis: [False True] \n",
      "\n",
      "depression_treatment: [False True] \n",
      "\n",
      "gad_score: [ 0  1  2  3  4  5  6  7  8  9 10 11 12 13 14 15 16 17 18 19 20 21] \n",
      "\n",
      "anxiety_severity: ['Mild' 'Moderate' 'None-minimal' 'Severe'] \n",
      "\n",
      "anxiousness: [False True] \n",
      "\n",
      "anxiety_diagnosis: [False True] \n",
      "\n",
      "anxiety_treatment: [False True] \n",
      "\n",
      "epworth_score: [ 0.  1.  2.  3.  4.  5.  6.  7.  8.  9. 10. 11. 12. 13. 14. 15. 16. 17.\n",
      " 18. 19. 20. 24. 31. 32.] \n",
      "\n",
      "sleepiness: [False True] \n",
      "\n"
     ]
    }
   ],
   "source": [
    "#Checking Unique values in each categorical column\n",
    "list_ = ['school_year', 'who_bmi', 'phq_score', 'depression_severity', 'depressiveness', 'suicidal', 'depression_diagnosis', 'depression_treatment', 'gad_score', 'anxiety_severity', 'anxiousness', 'anxiety_diagnosis', 'anxiety_treatment', 'epworth_score', 'sleepiness']\n",
    "for col in list_:\n",
    "    x = df[col].unique()\n",
    "    print(col + ':', np.sort(x, axis=None), '\\n')"
   ]
  },
  {
   "cell_type": "code",
   "execution_count": 7,
   "id": "4ec231be",
   "metadata": {},
   "outputs": [
    {
     "data": {
      "text/html": [
       "<div>\n",
       "<style scoped>\n",
       "    .dataframe tbody tr th:only-of-type {\n",
       "        vertical-align: middle;\n",
       "    }\n",
       "\n",
       "    .dataframe tbody tr th {\n",
       "        vertical-align: top;\n",
       "    }\n",
       "\n",
       "    .dataframe thead th {\n",
       "        text-align: right;\n",
       "    }\n",
       "</style>\n",
       "<table border=\"1\" class=\"dataframe\">\n",
       "  <thead>\n",
       "    <tr style=\"text-align: right;\">\n",
       "      <th></th>\n",
       "      <th>id</th>\n",
       "      <th>school_year</th>\n",
       "      <th>age</th>\n",
       "      <th>gender</th>\n",
       "      <th>bmi</th>\n",
       "      <th>who_bmi</th>\n",
       "      <th>phq_score</th>\n",
       "      <th>depression_severity</th>\n",
       "      <th>depressiveness</th>\n",
       "      <th>suicidal</th>\n",
       "      <th>depression_diagnosis</th>\n",
       "      <th>depression_treatment</th>\n",
       "      <th>gad_score</th>\n",
       "      <th>anxiety_severity</th>\n",
       "      <th>anxiousness</th>\n",
       "      <th>anxiety_diagnosis</th>\n",
       "      <th>anxiety_treatment</th>\n",
       "      <th>epworth_score</th>\n",
       "      <th>sleepiness</th>\n",
       "    </tr>\n",
       "  </thead>\n",
       "  <tbody>\n",
       "    <tr>\n",
       "      <th>407</th>\n",
       "      <td>408</td>\n",
       "      <td>2</td>\n",
       "      <td>21</td>\n",
       "      <td>female</td>\n",
       "      <td>33.057851</td>\n",
       "      <td>Class I Obesity</td>\n",
       "      <td>20</td>\n",
       "      <td>Severe</td>\n",
       "      <td>True</td>\n",
       "      <td>False</td>\n",
       "      <td>False</td>\n",
       "      <td>False</td>\n",
       "      <td>16</td>\n",
       "      <td>Severe</td>\n",
       "      <td>True</td>\n",
       "      <td>False</td>\n",
       "      <td>False</td>\n",
       "      <td>31.0</td>\n",
       "      <td>True</td>\n",
       "    </tr>\n",
       "    <tr>\n",
       "      <th>421</th>\n",
       "      <td>422</td>\n",
       "      <td>2</td>\n",
       "      <td>19</td>\n",
       "      <td>male</td>\n",
       "      <td>19.252620</td>\n",
       "      <td>Normal</td>\n",
       "      <td>18</td>\n",
       "      <td>Moderately severe</td>\n",
       "      <td>True</td>\n",
       "      <td>False</td>\n",
       "      <td>False</td>\n",
       "      <td>False</td>\n",
       "      <td>14</td>\n",
       "      <td>Moderate</td>\n",
       "      <td>True</td>\n",
       "      <td>False</td>\n",
       "      <td>False</td>\n",
       "      <td>24.0</td>\n",
       "      <td>True</td>\n",
       "    </tr>\n",
       "    <tr>\n",
       "      <th>426</th>\n",
       "      <td>427</td>\n",
       "      <td>2</td>\n",
       "      <td>19</td>\n",
       "      <td>male</td>\n",
       "      <td>23.889463</td>\n",
       "      <td>Normal</td>\n",
       "      <td>10</td>\n",
       "      <td>Moderate</td>\n",
       "      <td>True</td>\n",
       "      <td>True</td>\n",
       "      <td>True</td>\n",
       "      <td>True</td>\n",
       "      <td>8</td>\n",
       "      <td>Mild</td>\n",
       "      <td>False</td>\n",
       "      <td>False</td>\n",
       "      <td>False</td>\n",
       "      <td>32.0</td>\n",
       "      <td>True</td>\n",
       "    </tr>\n",
       "  </tbody>\n",
       "</table>\n",
       "</div>"
      ],
      "text/plain": [
       "      id  school_year  age  gender        bmi          who_bmi  phq_score  \\\n",
       "407  408            2   21  female  33.057851  Class I Obesity         20   \n",
       "421  422            2   19    male  19.252620           Normal         18   \n",
       "426  427            2   19    male  23.889463           Normal         10   \n",
       "\n",
       "    depression_severity depressiveness suicidal depression_diagnosis  \\\n",
       "407              Severe           True    False                False   \n",
       "421   Moderately severe           True    False                False   \n",
       "426            Moderate           True     True                 True   \n",
       "\n",
       "    depression_treatment  gad_score anxiety_severity anxiousness  \\\n",
       "407                False         16           Severe        True   \n",
       "421                False         14         Moderate        True   \n",
       "426                 True          8             Mild       False   \n",
       "\n",
       "    anxiety_diagnosis anxiety_treatment  epworth_score sleepiness  \n",
       "407             False             False           31.0       True  \n",
       "421             False             False           24.0       True  \n",
       "426             False             False           32.0       True  "
      ]
     },
     "execution_count": 7,
     "metadata": {},
     "output_type": "execute_result"
    }
   ],
   "source": [
    "#Out of range values for epworth score\n",
    "df[df.epworth_score>=24]"
   ]
  },
  {
   "cell_type": "code",
   "execution_count": 8,
   "id": "706f7a4e",
   "metadata": {},
   "outputs": [],
   "source": [
    "#Setting out of range data\n",
    "df.loc[df['epworth_score']>24, 'epworth_score'] = 20.0"
   ]
  },
  {
   "cell_type": "code",
   "execution_count": 9,
   "id": "8a943eec",
   "metadata": {},
   "outputs": [],
   "source": [
    "df.drop('id', axis=1, inplace=True)"
   ]
  },
  {
   "cell_type": "code",
   "execution_count": 10,
   "id": "b40976f9",
   "metadata": {},
   "outputs": [
    {
     "data": {
      "text/html": [
       "<div>\n",
       "<style scoped>\n",
       "    .dataframe tbody tr th:only-of-type {\n",
       "        vertical-align: middle;\n",
       "    }\n",
       "\n",
       "    .dataframe tbody tr th {\n",
       "        vertical-align: top;\n",
       "    }\n",
       "\n",
       "    .dataframe thead th {\n",
       "        text-align: right;\n",
       "    }\n",
       "</style>\n",
       "<table border=\"1\" class=\"dataframe\">\n",
       "  <thead>\n",
       "    <tr style=\"text-align: right;\">\n",
       "      <th></th>\n",
       "      <th>count</th>\n",
       "      <th>mean</th>\n",
       "      <th>std</th>\n",
       "      <th>min</th>\n",
       "      <th>25%</th>\n",
       "      <th>50%</th>\n",
       "      <th>75%</th>\n",
       "      <th>max</th>\n",
       "    </tr>\n",
       "  </thead>\n",
       "  <tbody>\n",
       "    <tr>\n",
       "      <th>school_year</th>\n",
       "      <td>765.0</td>\n",
       "      <td>2.288889</td>\n",
       "      <td>1.167377</td>\n",
       "      <td>1.0</td>\n",
       "      <td>1.000000</td>\n",
       "      <td>2.000000</td>\n",
       "      <td>3.000000</td>\n",
       "      <td>4.000000</td>\n",
       "    </tr>\n",
       "    <tr>\n",
       "      <th>age</th>\n",
       "      <td>765.0</td>\n",
       "      <td>20.257516</td>\n",
       "      <td>1.772488</td>\n",
       "      <td>18.0</td>\n",
       "      <td>19.000000</td>\n",
       "      <td>20.000000</td>\n",
       "      <td>21.000000</td>\n",
       "      <td>31.000000</td>\n",
       "    </tr>\n",
       "    <tr>\n",
       "      <th>bmi</th>\n",
       "      <td>765.0</td>\n",
       "      <td>23.410511</td>\n",
       "      <td>4.590204</td>\n",
       "      <td>0.0</td>\n",
       "      <td>20.957274</td>\n",
       "      <td>23.148148</td>\n",
       "      <td>25.510204</td>\n",
       "      <td>54.552668</td>\n",
       "    </tr>\n",
       "    <tr>\n",
       "      <th>phq_score</th>\n",
       "      <td>765.0</td>\n",
       "      <td>7.167320</td>\n",
       "      <td>4.420411</td>\n",
       "      <td>0.0</td>\n",
       "      <td>4.000000</td>\n",
       "      <td>6.000000</td>\n",
       "      <td>9.000000</td>\n",
       "      <td>24.000000</td>\n",
       "    </tr>\n",
       "    <tr>\n",
       "      <th>gad_score</th>\n",
       "      <td>765.0</td>\n",
       "      <td>6.882353</td>\n",
       "      <td>4.730071</td>\n",
       "      <td>0.0</td>\n",
       "      <td>3.000000</td>\n",
       "      <td>6.000000</td>\n",
       "      <td>9.000000</td>\n",
       "      <td>21.000000</td>\n",
       "    </tr>\n",
       "    <tr>\n",
       "      <th>epworth_score</th>\n",
       "      <td>765.0</td>\n",
       "      <td>6.366013</td>\n",
       "      <td>3.849511</td>\n",
       "      <td>0.0</td>\n",
       "      <td>4.000000</td>\n",
       "      <td>6.000000</td>\n",
       "      <td>9.000000</td>\n",
       "      <td>24.000000</td>\n",
       "    </tr>\n",
       "  </tbody>\n",
       "</table>\n",
       "</div>"
      ],
      "text/plain": [
       "               count       mean       std   min        25%        50%  \\\n",
       "school_year    765.0   2.288889  1.167377   1.0   1.000000   2.000000   \n",
       "age            765.0  20.257516  1.772488  18.0  19.000000  20.000000   \n",
       "bmi            765.0  23.410511  4.590204   0.0  20.957274  23.148148   \n",
       "phq_score      765.0   7.167320  4.420411   0.0   4.000000   6.000000   \n",
       "gad_score      765.0   6.882353  4.730071   0.0   3.000000   6.000000   \n",
       "epworth_score  765.0   6.366013  3.849511   0.0   4.000000   6.000000   \n",
       "\n",
       "                     75%        max  \n",
       "school_year     3.000000   4.000000  \n",
       "age            21.000000  31.000000  \n",
       "bmi            25.510204  54.552668  \n",
       "phq_score       9.000000  24.000000  \n",
       "gad_score       9.000000  21.000000  \n",
       "epworth_score   9.000000  24.000000  "
      ]
     },
     "execution_count": 10,
     "metadata": {},
     "output_type": "execute_result"
    }
   ],
   "source": [
    "#Problem with BMI column\n",
    "df.describe().transpose()"
   ]
  },
  {
   "cell_type": "code",
   "execution_count": 11,
   "id": "cb5e3b9e",
   "metadata": {},
   "outputs": [],
   "source": [
    "df.bmi.replace(0.0, np.nan, inplace=True)"
   ]
  },
  {
   "cell_type": "code",
   "execution_count": 12,
   "id": "a289875b",
   "metadata": {},
   "outputs": [],
   "source": [
    "#Removing rows with missing BMI values\n",
    "df.dropna(inplace=True)"
   ]
  },
  {
   "cell_type": "code",
   "execution_count": 13,
   "id": "fcce93a9",
   "metadata": {},
   "outputs": [
    {
     "data": {
      "text/html": [
       "<div>\n",
       "<style scoped>\n",
       "    .dataframe tbody tr th:only-of-type {\n",
       "        vertical-align: middle;\n",
       "    }\n",
       "\n",
       "    .dataframe tbody tr th {\n",
       "        vertical-align: top;\n",
       "    }\n",
       "\n",
       "    .dataframe thead th {\n",
       "        text-align: right;\n",
       "    }\n",
       "</style>\n",
       "<table border=\"1\" class=\"dataframe\">\n",
       "  <thead>\n",
       "    <tr style=\"text-align: right;\">\n",
       "      <th></th>\n",
       "      <th>count</th>\n",
       "      <th>mean</th>\n",
       "      <th>std</th>\n",
       "      <th>min</th>\n",
       "      <th>25%</th>\n",
       "      <th>50%</th>\n",
       "      <th>75%</th>\n",
       "      <th>max</th>\n",
       "    </tr>\n",
       "  </thead>\n",
       "  <tbody>\n",
       "    <tr>\n",
       "      <th>school_year</th>\n",
       "      <td>757.0</td>\n",
       "      <td>2.291942</td>\n",
       "      <td>1.167506</td>\n",
       "      <td>1.000000</td>\n",
       "      <td>1.000000</td>\n",
       "      <td>2.000000</td>\n",
       "      <td>3.000000</td>\n",
       "      <td>4.000000</td>\n",
       "    </tr>\n",
       "    <tr>\n",
       "      <th>age</th>\n",
       "      <td>757.0</td>\n",
       "      <td>20.264201</td>\n",
       "      <td>1.773989</td>\n",
       "      <td>18.000000</td>\n",
       "      <td>19.000000</td>\n",
       "      <td>20.000000</td>\n",
       "      <td>21.000000</td>\n",
       "      <td>31.000000</td>\n",
       "    </tr>\n",
       "    <tr>\n",
       "      <th>bmi</th>\n",
       "      <td>757.0</td>\n",
       "      <td>23.657914</td>\n",
       "      <td>3.928378</td>\n",
       "      <td>14.880952</td>\n",
       "      <td>21.082813</td>\n",
       "      <td>23.233456</td>\n",
       "      <td>25.535446</td>\n",
       "      <td>54.552668</td>\n",
       "    </tr>\n",
       "    <tr>\n",
       "      <th>phq_score</th>\n",
       "      <td>757.0</td>\n",
       "      <td>7.182299</td>\n",
       "      <td>4.431555</td>\n",
       "      <td>0.000000</td>\n",
       "      <td>4.000000</td>\n",
       "      <td>6.000000</td>\n",
       "      <td>9.000000</td>\n",
       "      <td>24.000000</td>\n",
       "    </tr>\n",
       "    <tr>\n",
       "      <th>gad_score</th>\n",
       "      <td>757.0</td>\n",
       "      <td>6.922061</td>\n",
       "      <td>4.733144</td>\n",
       "      <td>0.000000</td>\n",
       "      <td>3.000000</td>\n",
       "      <td>6.000000</td>\n",
       "      <td>10.000000</td>\n",
       "      <td>21.000000</td>\n",
       "    </tr>\n",
       "    <tr>\n",
       "      <th>epworth_score</th>\n",
       "      <td>757.0</td>\n",
       "      <td>6.361955</td>\n",
       "      <td>3.863550</td>\n",
       "      <td>0.000000</td>\n",
       "      <td>3.000000</td>\n",
       "      <td>6.000000</td>\n",
       "      <td>9.000000</td>\n",
       "      <td>24.000000</td>\n",
       "    </tr>\n",
       "  </tbody>\n",
       "</table>\n",
       "</div>"
      ],
      "text/plain": [
       "               count       mean       std        min        25%        50%  \\\n",
       "school_year    757.0   2.291942  1.167506   1.000000   1.000000   2.000000   \n",
       "age            757.0  20.264201  1.773989  18.000000  19.000000  20.000000   \n",
       "bmi            757.0  23.657914  3.928378  14.880952  21.082813  23.233456   \n",
       "phq_score      757.0   7.182299  4.431555   0.000000   4.000000   6.000000   \n",
       "gad_score      757.0   6.922061  4.733144   0.000000   3.000000   6.000000   \n",
       "epworth_score  757.0   6.361955  3.863550   0.000000   3.000000   6.000000   \n",
       "\n",
       "                     75%        max  \n",
       "school_year     3.000000   4.000000  \n",
       "age            21.000000  31.000000  \n",
       "bmi            25.535446  54.552668  \n",
       "phq_score       9.000000  24.000000  \n",
       "gad_score      10.000000  21.000000  \n",
       "epworth_score   9.000000  24.000000  "
      ]
     },
     "execution_count": 13,
     "metadata": {},
     "output_type": "execute_result"
    }
   ],
   "source": [
    "df.describe().transpose()"
   ]
  },
  {
   "cell_type": "code",
   "execution_count": 14,
   "id": "1e09e167",
   "metadata": {},
   "outputs": [
    {
     "data": {
      "text/html": [
       "<div>\n",
       "<style scoped>\n",
       "    .dataframe tbody tr th:only-of-type {\n",
       "        vertical-align: middle;\n",
       "    }\n",
       "\n",
       "    .dataframe tbody tr th {\n",
       "        vertical-align: top;\n",
       "    }\n",
       "\n",
       "    .dataframe thead th {\n",
       "        text-align: right;\n",
       "    }\n",
       "</style>\n",
       "<table border=\"1\" class=\"dataframe\">\n",
       "  <thead>\n",
       "    <tr style=\"text-align: right;\">\n",
       "      <th></th>\n",
       "      <th>school_year</th>\n",
       "      <th>age</th>\n",
       "      <th>gender</th>\n",
       "      <th>bmi</th>\n",
       "      <th>who_bmi</th>\n",
       "      <th>phq_score</th>\n",
       "      <th>depression_severity</th>\n",
       "      <th>depressiveness</th>\n",
       "      <th>suicidal</th>\n",
       "      <th>depression_diagnosis</th>\n",
       "      <th>depression_treatment</th>\n",
       "      <th>gad_score</th>\n",
       "      <th>anxiety_severity</th>\n",
       "      <th>anxiousness</th>\n",
       "      <th>anxiety_diagnosis</th>\n",
       "      <th>anxiety_treatment</th>\n",
       "      <th>epworth_score</th>\n",
       "      <th>sleepiness</th>\n",
       "    </tr>\n",
       "  </thead>\n",
       "  <tbody>\n",
       "    <tr>\n",
       "      <th>132</th>\n",
       "      <td>1</td>\n",
       "      <td>20</td>\n",
       "      <td>male</td>\n",
       "      <td>24.212293</td>\n",
       "      <td>Normal</td>\n",
       "      <td>0</td>\n",
       "      <td>none</td>\n",
       "      <td>False</td>\n",
       "      <td>False</td>\n",
       "      <td>False</td>\n",
       "      <td>False</td>\n",
       "      <td>2</td>\n",
       "      <td>None-minimal</td>\n",
       "      <td>False</td>\n",
       "      <td>False</td>\n",
       "      <td>False</td>\n",
       "      <td>7.0</td>\n",
       "      <td>False</td>\n",
       "    </tr>\n",
       "    <tr>\n",
       "      <th>218</th>\n",
       "      <td>1</td>\n",
       "      <td>19</td>\n",
       "      <td>male</td>\n",
       "      <td>20.902386</td>\n",
       "      <td>Normal</td>\n",
       "      <td>0</td>\n",
       "      <td>none</td>\n",
       "      <td>False</td>\n",
       "      <td>False</td>\n",
       "      <td>False</td>\n",
       "      <td>False</td>\n",
       "      <td>0</td>\n",
       "      <td>None-minimal</td>\n",
       "      <td>False</td>\n",
       "      <td>False</td>\n",
       "      <td>False</td>\n",
       "      <td>7.0</td>\n",
       "      <td>False</td>\n",
       "    </tr>\n",
       "    <tr>\n",
       "      <th>444</th>\n",
       "      <td>2</td>\n",
       "      <td>19</td>\n",
       "      <td>male</td>\n",
       "      <td>25.249337</td>\n",
       "      <td>Overweight</td>\n",
       "      <td>0</td>\n",
       "      <td>none</td>\n",
       "      <td>False</td>\n",
       "      <td>False</td>\n",
       "      <td>False</td>\n",
       "      <td>False</td>\n",
       "      <td>1</td>\n",
       "      <td>None-minimal</td>\n",
       "      <td>False</td>\n",
       "      <td>False</td>\n",
       "      <td>False</td>\n",
       "      <td>4.0</td>\n",
       "      <td>False</td>\n",
       "    </tr>\n",
       "    <tr>\n",
       "      <th>508</th>\n",
       "      <td>3</td>\n",
       "      <td>20</td>\n",
       "      <td>male</td>\n",
       "      <td>27.440599</td>\n",
       "      <td>Overweight</td>\n",
       "      <td>0</td>\n",
       "      <td>none</td>\n",
       "      <td>False</td>\n",
       "      <td>False</td>\n",
       "      <td>False</td>\n",
       "      <td>False</td>\n",
       "      <td>1</td>\n",
       "      <td>None-minimal</td>\n",
       "      <td>False</td>\n",
       "      <td>False</td>\n",
       "      <td>False</td>\n",
       "      <td>0.0</td>\n",
       "      <td>False</td>\n",
       "    </tr>\n",
       "    <tr>\n",
       "      <th>517</th>\n",
       "      <td>3</td>\n",
       "      <td>20</td>\n",
       "      <td>male</td>\n",
       "      <td>21.799308</td>\n",
       "      <td>Normal</td>\n",
       "      <td>0</td>\n",
       "      <td>none</td>\n",
       "      <td>False</td>\n",
       "      <td>False</td>\n",
       "      <td>False</td>\n",
       "      <td>False</td>\n",
       "      <td>0</td>\n",
       "      <td>None-minimal</td>\n",
       "      <td>False</td>\n",
       "      <td>False</td>\n",
       "      <td>False</td>\n",
       "      <td>1.0</td>\n",
       "      <td>False</td>\n",
       "    </tr>\n",
       "    <tr>\n",
       "      <th>530</th>\n",
       "      <td>3</td>\n",
       "      <td>21</td>\n",
       "      <td>male</td>\n",
       "      <td>26.528510</td>\n",
       "      <td>Overweight</td>\n",
       "      <td>0</td>\n",
       "      <td>none</td>\n",
       "      <td>False</td>\n",
       "      <td>False</td>\n",
       "      <td>False</td>\n",
       "      <td>False</td>\n",
       "      <td>0</td>\n",
       "      <td>None-minimal</td>\n",
       "      <td>False</td>\n",
       "      <td>False</td>\n",
       "      <td>False</td>\n",
       "      <td>3.0</td>\n",
       "      <td>False</td>\n",
       "    </tr>\n",
       "    <tr>\n",
       "      <th>541</th>\n",
       "      <td>3</td>\n",
       "      <td>24</td>\n",
       "      <td>male</td>\n",
       "      <td>29.053288</td>\n",
       "      <td>Overweight</td>\n",
       "      <td>0</td>\n",
       "      <td>none</td>\n",
       "      <td>False</td>\n",
       "      <td>False</td>\n",
       "      <td>False</td>\n",
       "      <td>False</td>\n",
       "      <td>1</td>\n",
       "      <td>None-minimal</td>\n",
       "      <td>False</td>\n",
       "      <td>False</td>\n",
       "      <td>False</td>\n",
       "      <td>4.0</td>\n",
       "      <td>False</td>\n",
       "    </tr>\n",
       "    <tr>\n",
       "      <th>563</th>\n",
       "      <td>3</td>\n",
       "      <td>22</td>\n",
       "      <td>female</td>\n",
       "      <td>22.862369</td>\n",
       "      <td>Normal</td>\n",
       "      <td>0</td>\n",
       "      <td>none</td>\n",
       "      <td>False</td>\n",
       "      <td>False</td>\n",
       "      <td>False</td>\n",
       "      <td>False</td>\n",
       "      <td>0</td>\n",
       "      <td>None-minimal</td>\n",
       "      <td>False</td>\n",
       "      <td>False</td>\n",
       "      <td>False</td>\n",
       "      <td>0.0</td>\n",
       "      <td>False</td>\n",
       "    </tr>\n",
       "    <tr>\n",
       "      <th>565</th>\n",
       "      <td>3</td>\n",
       "      <td>21</td>\n",
       "      <td>male</td>\n",
       "      <td>24.056935</td>\n",
       "      <td>Normal</td>\n",
       "      <td>0</td>\n",
       "      <td>none</td>\n",
       "      <td>False</td>\n",
       "      <td>False</td>\n",
       "      <td>False</td>\n",
       "      <td>False</td>\n",
       "      <td>0</td>\n",
       "      <td>None-minimal</td>\n",
       "      <td>False</td>\n",
       "      <td>False</td>\n",
       "      <td>False</td>\n",
       "      <td>7.0</td>\n",
       "      <td>False</td>\n",
       "    </tr>\n",
       "    <tr>\n",
       "      <th>634</th>\n",
       "      <td>4</td>\n",
       "      <td>22</td>\n",
       "      <td>female</td>\n",
       "      <td>24.456063</td>\n",
       "      <td>Normal</td>\n",
       "      <td>0</td>\n",
       "      <td>none</td>\n",
       "      <td>False</td>\n",
       "      <td>False</td>\n",
       "      <td>False</td>\n",
       "      <td>False</td>\n",
       "      <td>0</td>\n",
       "      <td>None-minimal</td>\n",
       "      <td>False</td>\n",
       "      <td>False</td>\n",
       "      <td>False</td>\n",
       "      <td>0.0</td>\n",
       "      <td>False</td>\n",
       "    </tr>\n",
       "    <tr>\n",
       "      <th>647</th>\n",
       "      <td>4</td>\n",
       "      <td>21</td>\n",
       "      <td>male</td>\n",
       "      <td>23.388687</td>\n",
       "      <td>Normal</td>\n",
       "      <td>0</td>\n",
       "      <td>none</td>\n",
       "      <td>False</td>\n",
       "      <td>False</td>\n",
       "      <td>False</td>\n",
       "      <td>False</td>\n",
       "      <td>0</td>\n",
       "      <td>None-minimal</td>\n",
       "      <td>False</td>\n",
       "      <td>False</td>\n",
       "      <td>False</td>\n",
       "      <td>2.0</td>\n",
       "      <td>False</td>\n",
       "    </tr>\n",
       "    <tr>\n",
       "      <th>665</th>\n",
       "      <td>4</td>\n",
       "      <td>21</td>\n",
       "      <td>male</td>\n",
       "      <td>19.486961</td>\n",
       "      <td>Normal</td>\n",
       "      <td>0</td>\n",
       "      <td>none</td>\n",
       "      <td>False</td>\n",
       "      <td>False</td>\n",
       "      <td>True</td>\n",
       "      <td>True</td>\n",
       "      <td>0</td>\n",
       "      <td>None-minimal</td>\n",
       "      <td>False</td>\n",
       "      <td>False</td>\n",
       "      <td>False</td>\n",
       "      <td>4.0</td>\n",
       "      <td>False</td>\n",
       "    </tr>\n",
       "    <tr>\n",
       "      <th>671</th>\n",
       "      <td>4</td>\n",
       "      <td>21</td>\n",
       "      <td>female</td>\n",
       "      <td>21.501886</td>\n",
       "      <td>Normal</td>\n",
       "      <td>0</td>\n",
       "      <td>none</td>\n",
       "      <td>False</td>\n",
       "      <td>False</td>\n",
       "      <td>False</td>\n",
       "      <td>False</td>\n",
       "      <td>2</td>\n",
       "      <td>None-minimal</td>\n",
       "      <td>False</td>\n",
       "      <td>False</td>\n",
       "      <td>False</td>\n",
       "      <td>1.0</td>\n",
       "      <td>False</td>\n",
       "    </tr>\n",
       "    <tr>\n",
       "      <th>743</th>\n",
       "      <td>4</td>\n",
       "      <td>22</td>\n",
       "      <td>female</td>\n",
       "      <td>21.719250</td>\n",
       "      <td>Normal</td>\n",
       "      <td>0</td>\n",
       "      <td>none</td>\n",
       "      <td>False</td>\n",
       "      <td>False</td>\n",
       "      <td>False</td>\n",
       "      <td>False</td>\n",
       "      <td>0</td>\n",
       "      <td>None-minimal</td>\n",
       "      <td>False</td>\n",
       "      <td>False</td>\n",
       "      <td>False</td>\n",
       "      <td>4.0</td>\n",
       "      <td>False</td>\n",
       "    </tr>\n",
       "    <tr>\n",
       "      <th>747</th>\n",
       "      <td>4</td>\n",
       "      <td>22</td>\n",
       "      <td>male</td>\n",
       "      <td>27.160494</td>\n",
       "      <td>Overweight</td>\n",
       "      <td>0</td>\n",
       "      <td>none</td>\n",
       "      <td>False</td>\n",
       "      <td>False</td>\n",
       "      <td>False</td>\n",
       "      <td>False</td>\n",
       "      <td>1</td>\n",
       "      <td>None-minimal</td>\n",
       "      <td>False</td>\n",
       "      <td>False</td>\n",
       "      <td>False</td>\n",
       "      <td>6.0</td>\n",
       "      <td>False</td>\n",
       "    </tr>\n",
       "  </tbody>\n",
       "</table>\n",
       "</div>"
      ],
      "text/plain": [
       "     school_year  age  gender        bmi     who_bmi  phq_score  \\\n",
       "132            1   20    male  24.212293      Normal          0   \n",
       "218            1   19    male  20.902386      Normal          0   \n",
       "444            2   19    male  25.249337  Overweight          0   \n",
       "508            3   20    male  27.440599  Overweight          0   \n",
       "517            3   20    male  21.799308      Normal          0   \n",
       "530            3   21    male  26.528510  Overweight          0   \n",
       "541            3   24    male  29.053288  Overweight          0   \n",
       "563            3   22  female  22.862369      Normal          0   \n",
       "565            3   21    male  24.056935      Normal          0   \n",
       "634            4   22  female  24.456063      Normal          0   \n",
       "647            4   21    male  23.388687      Normal          0   \n",
       "665            4   21    male  19.486961      Normal          0   \n",
       "671            4   21  female  21.501886      Normal          0   \n",
       "743            4   22  female  21.719250      Normal          0   \n",
       "747            4   22    male  27.160494  Overweight          0   \n",
       "\n",
       "    depression_severity depressiveness suicidal depression_diagnosis  \\\n",
       "132                none          False    False                False   \n",
       "218                none          False    False                False   \n",
       "444                none          False    False                False   \n",
       "508                none          False    False                False   \n",
       "517                none          False    False                False   \n",
       "530                none          False    False                False   \n",
       "541                none          False    False                False   \n",
       "563                none          False    False                False   \n",
       "565                none          False    False                False   \n",
       "634                none          False    False                False   \n",
       "647                none          False    False                False   \n",
       "665                none          False    False                 True   \n",
       "671                none          False    False                False   \n",
       "743                none          False    False                False   \n",
       "747                none          False    False                False   \n",
       "\n",
       "    depression_treatment  gad_score anxiety_severity anxiousness  \\\n",
       "132                False          2     None-minimal       False   \n",
       "218                False          0     None-minimal       False   \n",
       "444                False          1     None-minimal       False   \n",
       "508                False          1     None-minimal       False   \n",
       "517                False          0     None-minimal       False   \n",
       "530                False          0     None-minimal       False   \n",
       "541                False          1     None-minimal       False   \n",
       "563                False          0     None-minimal       False   \n",
       "565                False          0     None-minimal       False   \n",
       "634                False          0     None-minimal       False   \n",
       "647                False          0     None-minimal       False   \n",
       "665                 True          0     None-minimal       False   \n",
       "671                False          2     None-minimal       False   \n",
       "743                False          0     None-minimal       False   \n",
       "747                False          1     None-minimal       False   \n",
       "\n",
       "    anxiety_diagnosis anxiety_treatment  epworth_score sleepiness  \n",
       "132             False             False            7.0      False  \n",
       "218             False             False            7.0      False  \n",
       "444             False             False            4.0      False  \n",
       "508             False             False            0.0      False  \n",
       "517             False             False            1.0      False  \n",
       "530             False             False            3.0      False  \n",
       "541             False             False            4.0      False  \n",
       "563             False             False            0.0      False  \n",
       "565             False             False            7.0      False  \n",
       "634             False             False            0.0      False  \n",
       "647             False             False            2.0      False  \n",
       "665             False             False            4.0      False  \n",
       "671             False             False            1.0      False  \n",
       "743             False             False            4.0      False  \n",
       "747             False             False            6.0      False  "
      ]
     },
     "execution_count": 14,
     "metadata": {},
     "output_type": "execute_result"
    }
   ],
   "source": [
    "df.query(\"depression_severity=='none'\")"
   ]
  },
  {
   "cell_type": "code",
   "execution_count": 15,
   "id": "82e80668",
   "metadata": {},
   "outputs": [],
   "source": [
    "#Replacing 'none' with None-minimal\n",
    "df.depression_severity.replace('none', 'None-minimal', inplace=True)"
   ]
  },
  {
   "cell_type": "code",
   "execution_count": 16,
   "id": "1e18015a",
   "metadata": {},
   "outputs": [
    {
     "data": {
      "text/html": [
       "<div>\n",
       "<style scoped>\n",
       "    .dataframe tbody tr th:only-of-type {\n",
       "        vertical-align: middle;\n",
       "    }\n",
       "\n",
       "    .dataframe tbody tr th {\n",
       "        vertical-align: top;\n",
       "    }\n",
       "\n",
       "    .dataframe thead th {\n",
       "        text-align: right;\n",
       "    }\n",
       "</style>\n",
       "<table border=\"1\" class=\"dataframe\">\n",
       "  <thead>\n",
       "    <tr style=\"text-align: right;\">\n",
       "      <th></th>\n",
       "      <th>school_year</th>\n",
       "      <th>age</th>\n",
       "      <th>gender</th>\n",
       "      <th>bmi</th>\n",
       "      <th>who_bmi</th>\n",
       "      <th>phq_score</th>\n",
       "      <th>depression_severity</th>\n",
       "      <th>depressiveness</th>\n",
       "      <th>suicidal</th>\n",
       "      <th>depression_diagnosis</th>\n",
       "      <th>depression_treatment</th>\n",
       "      <th>gad_score</th>\n",
       "      <th>anxiety_severity</th>\n",
       "      <th>anxiousness</th>\n",
       "      <th>anxiety_diagnosis</th>\n",
       "      <th>anxiety_treatment</th>\n",
       "      <th>epworth_score</th>\n",
       "      <th>sleepiness</th>\n",
       "    </tr>\n",
       "  </thead>\n",
       "  <tbody>\n",
       "  </tbody>\n",
       "</table>\n",
       "</div>"
      ],
      "text/plain": [
       "Empty DataFrame\n",
       "Columns: [school_year, age, gender, bmi, who_bmi, phq_score, depression_severity, depressiveness, suicidal, depression_diagnosis, depression_treatment, gad_score, anxiety_severity, anxiousness, anxiety_diagnosis, anxiety_treatment, epworth_score, sleepiness]\n",
       "Index: []"
      ]
     },
     "execution_count": 16,
     "metadata": {},
     "output_type": "execute_result"
    }
   ],
   "source": [
    "df.query(\"depression_severity=='none'\")"
   ]
  },
  {
   "cell_type": "code",
   "execution_count": 17,
   "id": "75766795",
   "metadata": {},
   "outputs": [
    {
     "name": "stdout",
     "output_type": "stream",
     "text": [
      "<class 'pandas.core.frame.DataFrame'>\n",
      "Int64Index: 757 entries, 0 to 782\n",
      "Data columns (total 18 columns):\n",
      " #   Column                Non-Null Count  Dtype  \n",
      "---  ------                --------------  -----  \n",
      " 0   school_year           757 non-null    int64  \n",
      " 1   age                   757 non-null    int64  \n",
      " 2   gender                757 non-null    object \n",
      " 3   bmi                   757 non-null    float64\n",
      " 4   who_bmi               757 non-null    object \n",
      " 5   phq_score             757 non-null    int64  \n",
      " 6   depression_severity   757 non-null    object \n",
      " 7   depressiveness        757 non-null    object \n",
      " 8   suicidal              757 non-null    object \n",
      " 9   depression_diagnosis  757 non-null    object \n",
      " 10  depression_treatment  757 non-null    object \n",
      " 11  gad_score             757 non-null    int64  \n",
      " 12  anxiety_severity      757 non-null    object \n",
      " 13  anxiousness           757 non-null    object \n",
      " 14  anxiety_diagnosis     757 non-null    object \n",
      " 15  anxiety_treatment     757 non-null    object \n",
      " 16  epworth_score         757 non-null    float64\n",
      " 17  sleepiness            757 non-null    object \n",
      "dtypes: float64(2), int64(4), object(12)\n",
      "memory usage: 112.4+ KB\n"
     ]
    }
   ],
   "source": [
    "#Checking Data types\n",
    "df.info()"
   ]
  },
  {
   "cell_type": "code",
   "execution_count": 18,
   "id": "0b7f2814",
   "metadata": {},
   "outputs": [],
   "source": [
    "#Defining a function for transforming data type into category\n",
    "def category(*args):\n",
    "    '''Converts the data type of columns, passed as strings arguments, into category'''\n",
    "    for x in args:\n",
    "        df[x] = df[x].astype('category')\n",
    "    return df[x]"
   ]
  },
  {
   "cell_type": "code",
   "execution_count": 19,
   "id": "93a7a95b",
   "metadata": {},
   "outputs": [],
   "source": [
    "#Reducing number of who_bmi categories\n",
    "df['who_bmi'] = df.who_bmi.map({'Underweight':'Underweight','Normal':'Normal','Overweight':'Overweight','Class I Obesity': 'Obese', 'Class II Obesity': 'Obese', 'Class III Obesity': 'Obese'})"
   ]
  },
  {
   "cell_type": "code",
   "execution_count": 20,
   "id": "fff1a5f8",
   "metadata": {},
   "outputs": [
    {
     "data": {
      "text/html": [
       "<div>\n",
       "<style scoped>\n",
       "    .dataframe tbody tr th:only-of-type {\n",
       "        vertical-align: middle;\n",
       "    }\n",
       "\n",
       "    .dataframe tbody tr th {\n",
       "        vertical-align: top;\n",
       "    }\n",
       "\n",
       "    .dataframe thead th {\n",
       "        text-align: right;\n",
       "    }\n",
       "</style>\n",
       "<table border=\"1\" class=\"dataframe\">\n",
       "  <thead>\n",
       "    <tr style=\"text-align: right;\">\n",
       "      <th></th>\n",
       "      <th>school_year</th>\n",
       "      <th>gender</th>\n",
       "      <th>who_bmi</th>\n",
       "      <th>depression_severity</th>\n",
       "      <th>anxiety_severity</th>\n",
       "    </tr>\n",
       "  </thead>\n",
       "  <tbody>\n",
       "    <tr>\n",
       "      <th>0</th>\n",
       "      <td>1</td>\n",
       "      <td>male</td>\n",
       "      <td>Obese</td>\n",
       "      <td>Mild</td>\n",
       "      <td>Moderate</td>\n",
       "    </tr>\n",
       "    <tr>\n",
       "      <th>1</th>\n",
       "      <td>1</td>\n",
       "      <td>male</td>\n",
       "      <td>Normal</td>\n",
       "      <td>Mild</td>\n",
       "      <td>Mild</td>\n",
       "    </tr>\n",
       "    <tr>\n",
       "      <th>2</th>\n",
       "      <td>1</td>\n",
       "      <td>male</td>\n",
       "      <td>Overweight</td>\n",
       "      <td>Mild</td>\n",
       "      <td>Mild</td>\n",
       "    </tr>\n",
       "    <tr>\n",
       "      <th>3</th>\n",
       "      <td>1</td>\n",
       "      <td>female</td>\n",
       "      <td>Normal</td>\n",
       "      <td>Moderately severe</td>\n",
       "      <td>Severe</td>\n",
       "    </tr>\n",
       "    <tr>\n",
       "      <th>4</th>\n",
       "      <td>1</td>\n",
       "      <td>male</td>\n",
       "      <td>Overweight</td>\n",
       "      <td>Mild</td>\n",
       "      <td>Moderate</td>\n",
       "    </tr>\n",
       "    <tr>\n",
       "      <th>...</th>\n",
       "      <td>...</td>\n",
       "      <td>...</td>\n",
       "      <td>...</td>\n",
       "      <td>...</td>\n",
       "      <td>...</td>\n",
       "    </tr>\n",
       "    <tr>\n",
       "      <th>778</th>\n",
       "      <td>4</td>\n",
       "      <td>female</td>\n",
       "      <td>Normal</td>\n",
       "      <td>Mild</td>\n",
       "      <td>None-minimal</td>\n",
       "    </tr>\n",
       "    <tr>\n",
       "      <th>779</th>\n",
       "      <td>4</td>\n",
       "      <td>male</td>\n",
       "      <td>Overweight</td>\n",
       "      <td>None-minimal</td>\n",
       "      <td>Mild</td>\n",
       "    </tr>\n",
       "    <tr>\n",
       "      <th>780</th>\n",
       "      <td>4</td>\n",
       "      <td>male</td>\n",
       "      <td>Normal</td>\n",
       "      <td>None-minimal</td>\n",
       "      <td>Mild</td>\n",
       "    </tr>\n",
       "    <tr>\n",
       "      <th>781</th>\n",
       "      <td>4</td>\n",
       "      <td>female</td>\n",
       "      <td>Normal</td>\n",
       "      <td>Moderately severe</td>\n",
       "      <td>Severe</td>\n",
       "    </tr>\n",
       "    <tr>\n",
       "      <th>782</th>\n",
       "      <td>4</td>\n",
       "      <td>male</td>\n",
       "      <td>Normal</td>\n",
       "      <td>Mild</td>\n",
       "      <td>Mild</td>\n",
       "    </tr>\n",
       "  </tbody>\n",
       "</table>\n",
       "<p>757 rows × 5 columns</p>\n",
       "</div>"
      ],
      "text/plain": [
       "    school_year  gender     who_bmi depression_severity anxiety_severity\n",
       "0             1    male       Obese                Mild         Moderate\n",
       "1             1    male      Normal                Mild             Mild\n",
       "2             1    male  Overweight                Mild             Mild\n",
       "3             1  female      Normal   Moderately severe           Severe\n",
       "4             1    male  Overweight                Mild         Moderate\n",
       "..          ...     ...         ...                 ...              ...\n",
       "778           4  female      Normal                Mild     None-minimal\n",
       "779           4    male  Overweight        None-minimal             Mild\n",
       "780           4    male      Normal        None-minimal             Mild\n",
       "781           4  female      Normal   Moderately severe           Severe\n",
       "782           4    male      Normal                Mild             Mild\n",
       "\n",
       "[757 rows x 5 columns]"
      ]
     },
     "execution_count": 20,
     "metadata": {},
     "output_type": "execute_result"
    }
   ],
   "source": [
    "#Converting into Categories\n",
    "category(['school_year', 'gender', 'who_bmi', 'depression_severity', 'anxiety_severity'])"
   ]
  },
  {
   "cell_type": "code",
   "execution_count": 21,
   "id": "cbc304ab",
   "metadata": {},
   "outputs": [],
   "source": [
    "#Defining another function to convert them into ordered categories\n",
    "def ordered_cat(dic):\n",
    "    '''Converts column values into ordered categories'''\n",
    "    for k,v in dic.items():\n",
    "        df[k] = df[k].cat.reorder_categories(v, ordered=True)\n",
    "    return df[k]"
   ]
  },
  {
   "cell_type": "code",
   "execution_count": 22,
   "id": "2a00c405",
   "metadata": {},
   "outputs": [],
   "source": [
    "dict_cols = {'school_year':[1, 2, 3, 4], 'who_bmi':['Underweight', 'Normal', 'Overweight', 'Obese'], 'depression_severity':['None-minimal','Mild','Moderate','Moderately severe','Severe'], 'anxiety_severity':['None-minimal','Mild','Moderate','Severe'] }"
   ]
  },
  {
   "cell_type": "code",
   "execution_count": 23,
   "id": "111534ff",
   "metadata": {},
   "outputs": [
    {
     "data": {
      "text/plain": [
       "0          Moderate\n",
       "1              Mild\n",
       "2              Mild\n",
       "3            Severe\n",
       "4          Moderate\n",
       "           ...     \n",
       "778    None-minimal\n",
       "779            Mild\n",
       "780            Mild\n",
       "781          Severe\n",
       "782            Mild\n",
       "Name: anxiety_severity, Length: 757, dtype: category\n",
       "Categories (4, object): ['None-minimal' < 'Mild' < 'Moderate' < 'Severe']"
      ]
     },
     "execution_count": 23,
     "metadata": {},
     "output_type": "execute_result"
    }
   ],
   "source": [
    "ordered_cat(dict_cols)"
   ]
  },
  {
   "cell_type": "code",
   "execution_count": 24,
   "id": "71a237e9",
   "metadata": {},
   "outputs": [
    {
     "name": "stdout",
     "output_type": "stream",
     "text": [
      "<class 'pandas.core.frame.DataFrame'>\n",
      "Int64Index: 757 entries, 0 to 782\n",
      "Data columns (total 18 columns):\n",
      " #   Column                Non-Null Count  Dtype   \n",
      "---  ------                --------------  -----   \n",
      " 0   school_year           757 non-null    category\n",
      " 1   age                   757 non-null    int64   \n",
      " 2   gender                757 non-null    category\n",
      " 3   bmi                   757 non-null    float64 \n",
      " 4   who_bmi               757 non-null    category\n",
      " 5   phq_score             757 non-null    int64   \n",
      " 6   depression_severity   757 non-null    category\n",
      " 7   depressiveness        757 non-null    object  \n",
      " 8   suicidal              757 non-null    object  \n",
      " 9   depression_diagnosis  757 non-null    object  \n",
      " 10  depression_treatment  757 non-null    object  \n",
      " 11  gad_score             757 non-null    int64   \n",
      " 12  anxiety_severity      757 non-null    category\n",
      " 13  anxiousness           757 non-null    object  \n",
      " 14  anxiety_diagnosis     757 non-null    object  \n",
      " 15  anxiety_treatment     757 non-null    object  \n",
      " 16  epworth_score         757 non-null    float64 \n",
      " 17  sleepiness            757 non-null    object  \n",
      "dtypes: category(5), float64(2), int64(3), object(8)\n",
      "memory usage: 87.4+ KB\n"
     ]
    }
   ],
   "source": [
    "df.info()"
   ]
  },
  {
   "cell_type": "code",
   "execution_count": 25,
   "id": "dd33ca9d",
   "metadata": {},
   "outputs": [
    {
     "data": {
      "text/html": [
       "<div>\n",
       "<style scoped>\n",
       "    .dataframe tbody tr th:only-of-type {\n",
       "        vertical-align: middle;\n",
       "    }\n",
       "\n",
       "    .dataframe tbody tr th {\n",
       "        vertical-align: top;\n",
       "    }\n",
       "\n",
       "    .dataframe thead th {\n",
       "        text-align: right;\n",
       "    }\n",
       "</style>\n",
       "<table border=\"1\" class=\"dataframe\">\n",
       "  <thead>\n",
       "    <tr style=\"text-align: right;\">\n",
       "      <th></th>\n",
       "      <th>count</th>\n",
       "      <th>mean</th>\n",
       "      <th>std</th>\n",
       "      <th>min</th>\n",
       "      <th>25%</th>\n",
       "      <th>50%</th>\n",
       "      <th>75%</th>\n",
       "      <th>max</th>\n",
       "    </tr>\n",
       "  </thead>\n",
       "  <tbody>\n",
       "    <tr>\n",
       "      <th>age</th>\n",
       "      <td>757.0</td>\n",
       "      <td>20.264201</td>\n",
       "      <td>1.773989</td>\n",
       "      <td>18.000000</td>\n",
       "      <td>19.000000</td>\n",
       "      <td>20.000000</td>\n",
       "      <td>21.000000</td>\n",
       "      <td>31.000000</td>\n",
       "    </tr>\n",
       "    <tr>\n",
       "      <th>bmi</th>\n",
       "      <td>757.0</td>\n",
       "      <td>23.657914</td>\n",
       "      <td>3.928378</td>\n",
       "      <td>14.880952</td>\n",
       "      <td>21.082813</td>\n",
       "      <td>23.233456</td>\n",
       "      <td>25.535446</td>\n",
       "      <td>54.552668</td>\n",
       "    </tr>\n",
       "    <tr>\n",
       "      <th>phq_score</th>\n",
       "      <td>757.0</td>\n",
       "      <td>7.182299</td>\n",
       "      <td>4.431555</td>\n",
       "      <td>0.000000</td>\n",
       "      <td>4.000000</td>\n",
       "      <td>6.000000</td>\n",
       "      <td>9.000000</td>\n",
       "      <td>24.000000</td>\n",
       "    </tr>\n",
       "    <tr>\n",
       "      <th>gad_score</th>\n",
       "      <td>757.0</td>\n",
       "      <td>6.922061</td>\n",
       "      <td>4.733144</td>\n",
       "      <td>0.000000</td>\n",
       "      <td>3.000000</td>\n",
       "      <td>6.000000</td>\n",
       "      <td>10.000000</td>\n",
       "      <td>21.000000</td>\n",
       "    </tr>\n",
       "    <tr>\n",
       "      <th>epworth_score</th>\n",
       "      <td>757.0</td>\n",
       "      <td>6.361955</td>\n",
       "      <td>3.863550</td>\n",
       "      <td>0.000000</td>\n",
       "      <td>3.000000</td>\n",
       "      <td>6.000000</td>\n",
       "      <td>9.000000</td>\n",
       "      <td>24.000000</td>\n",
       "    </tr>\n",
       "  </tbody>\n",
       "</table>\n",
       "</div>"
      ],
      "text/plain": [
       "               count       mean       std        min        25%        50%  \\\n",
       "age            757.0  20.264201  1.773989  18.000000  19.000000  20.000000   \n",
       "bmi            757.0  23.657914  3.928378  14.880952  21.082813  23.233456   \n",
       "phq_score      757.0   7.182299  4.431555   0.000000   4.000000   6.000000   \n",
       "gad_score      757.0   6.922061  4.733144   0.000000   3.000000   6.000000   \n",
       "epworth_score  757.0   6.361955  3.863550   0.000000   3.000000   6.000000   \n",
       "\n",
       "                     75%        max  \n",
       "age            21.000000  31.000000  \n",
       "bmi            25.535446  54.552668  \n",
       "phq_score       9.000000  24.000000  \n",
       "gad_score      10.000000  21.000000  \n",
       "epworth_score   9.000000  24.000000  "
      ]
     },
     "execution_count": 25,
     "metadata": {},
     "output_type": "execute_result"
    }
   ],
   "source": [
    "df.describe().transpose()"
   ]
  },
  {
   "cell_type": "code",
   "execution_count": 26,
   "id": "9cde1957",
   "metadata": {},
   "outputs": [
    {
     "data": {
      "text/plain": [
       "(757, 18)"
      ]
     },
     "execution_count": 26,
     "metadata": {},
     "output_type": "execute_result"
    }
   ],
   "source": [
    "df.shape"
   ]
  },
  {
   "cell_type": "code",
   "execution_count": 27,
   "id": "de57760d",
   "metadata": {},
   "outputs": [],
   "source": [
    "#Dealing with Outliers in BMI column\n",
    "df.drop(df[df.bmi > (np.quantile(df.bmi, 0.75)*1.5)].index, axis=0, inplace=True)"
   ]
  },
  {
   "cell_type": "code",
   "execution_count": 28,
   "id": "a03111b4",
   "metadata": {},
   "outputs": [
    {
     "data": {
      "text/plain": [
       "(751, 18)"
      ]
     },
     "execution_count": 28,
     "metadata": {},
     "output_type": "execute_result"
    }
   ],
   "source": [
    "df.shape"
   ]
  },
  {
   "cell_type": "code",
   "execution_count": 29,
   "id": "62c260d2",
   "metadata": {},
   "outputs": [],
   "source": [
    "#Removing Duplicates\n",
    "df.drop_duplicates(inplace=True)"
   ]
  },
  {
   "cell_type": "code",
   "execution_count": 30,
   "id": "6af177d4",
   "metadata": {},
   "outputs": [
    {
     "data": {
      "text/plain": [
       "(740, 18)"
      ]
     },
     "execution_count": 30,
     "metadata": {},
     "output_type": "execute_result"
    }
   ],
   "source": [
    "df.shape"
   ]
  },
  {
   "cell_type": "code",
   "execution_count": 31,
   "id": "b8ee432b",
   "metadata": {},
   "outputs": [],
   "source": [
    "#Obtaining a stratified sample from original sample\n",
    "df_strat = df.groupby(['school_year', 'gender']).sample(n=95, replace=True, random_state=2000)"
   ]
  },
  {
   "cell_type": "code",
   "execution_count": 32,
   "id": "e1034ab3",
   "metadata": {},
   "outputs": [],
   "source": [
    "df_strat.reset_index(drop=True, inplace=True)"
   ]
  },
  {
   "cell_type": "markdown",
   "id": "c65c7768",
   "metadata": {},
   "source": [
    "# EXPLORATORY DATA ANALYSIS"
   ]
  },
  {
   "cell_type": "code",
   "execution_count": 33,
   "id": "fdef392c",
   "metadata": {},
   "outputs": [
    {
     "data": {
      "image/png": "[encoded data removed]",
      "text/plain": [
       "<Figure size 720x576 with 1 Axes>"
      ]
     },
     "metadata": {},
     "output_type": "display_data"
    }
   ],
   "source": [
    "plt.rcParams['figure.figsize'] = [10, 8]\n",
    "sns.set_style('darkgrid')\n",
    "df_strat.plot(kind='box')\n",
    "plt.title(\"Distributions of Numeric Variables\")\n",
    "plt.show()"
   ]
  },
  {
   "cell_type": "code",
   "execution_count": 34,
   "id": "72b38705",
   "metadata": {},
   "outputs": [
    {
     "data": {
      "application/vnd.plotly.v1+json": {
       "config": {
        "plotlyServerURL": "https://plot.ly"
       },
       "data": [
        {
         "alignmentgroup": "True",
         "bingroup": "x",
         "histfunc": "count",
         "hovertemplate": "Sex=%{x}<br>count=%{y}<extra></extra>",
         "legendgroup": "female",
         "marker": {
          "color": "#636efa",
          "pattern": {
           "shape": ""
          }
         },
         "name": "female",
         "offsetgroup": "female",
         "orientation": "v",
         "showlegend": true,
         "type": "histogram",
         "x": [
          "female",
          "female",
          "female",
          "female",
          "female",
          "female",
          "female",
          "female",
          "female",
          "female",
          "female",
          "female",
          "female",
          "female",
          "female",
          "female",
          "female",
          "female",
          "female",
          "female",
          "female",
          "female",
          "female",
          "female",
          "female",
          "female",
          "female",
          "female",
          "female",
          "female",
          "female",
          "female",
          "female",
          "female",
          "female",
          "female",
          "female",
          "female",
          "female",
          "female",
          "female",
          "female",
          "female",
          "female",
          "female",
          "female",
          "female",
          "female",
          "female",
          "female",
          "female",
          "female",
          "female",
          "female",
          "female",
          "female",
          "female",
          "female",
          "female",
          "female",
          "female",
          "female",
          "female",
          "female",
          "female",
          "female",
          "female",
          "female",
          "female",
          "female",
          "female",
          "female",
          "female",
          "female",
          "female",
          "female",
          "female",
          "female",
          "female",
          "female",
          "female",
          "female",
          "female",
          "female",
          "female",
          "female",
          "female",
          "female",
          "female",
          "female",
          "female",
          "female",
          "female",
          "female",
          "female",
          "female",
          "female",
          "female",
          "female",
          "female",
          "female",
          "female",
          "female",
          "female",
          "female",
          "female",
          "female",
          "female",
          "female",
          "female",
          "female",
          "female",
          "female",
          "female",
          "female",
          "female",
          "female",
          "female",
          "female",
          "female",
          "female",
          "female",
          "female",
          "female",
          "female",
          "female",
          "female",
          "female",
          "female",
          "female",
          "female",
          "female",
          "female",
          "female",
          "female",
          "female",
          "female",
          "female",
          "female",
          "female",
          "female",
          "female",
          "female",
          "female",
          "female",
          "female",
          "female",
          "female",
          "female",
          "female",
          "female",
          "female",
          "female",
          "female",
          "female",
          "female",
          "female",
          "female",
          "female",
          "female",
          "female",
          "female",
          "female",
          "female",
          "female",
          "female",
          "female",
          "female",
          "female",
          "female",
          "female",
          "female",
          "female",
          "female",
          "female",
          "female",
          "female",
          "female",
          "female",
          "female",
          "female",
          "female",
          "female",
          "female",
          "female",
          "female",
          "female",
          "female",
          "female",
          "female",
          "female",
          "female",
          "female",
          "female",
          "female",
          "female",
          "female",
          "female",
          "female",
          "female",
          "female",
          "female",
          "female",
          "female",
          "female",
          "female",
          "female",
          "female",
          "female",
          "female",
          "female",
          "female",
          "female",
          "female",
          "female",
          "female",
          "female",
          "female",
          "female",
          "female",
          "female",
          "female",
          "female",
          "female",
          "female",
          "female",
          "female",
          "female",
          "female",
          "female",
          "female",
          "female",
          "female",
          "female",
          "female",
          "female",
          "female",
          "female",
          "female",
          "female",
          "female",
          "female",
          "female",
          "female",
          "female",
          "female",
          "female",
          "female",
          "female",
          "female",
          "female",
          "female",
          "female",
          "female",
          "female",
          "female",
          "female",
          "female",
          "female",
          "female",
          "female",
          "female",
          "female",
          "female",
          "female",
          "female",
          "female",
          "female",
          "female",
          "female",
          "female",
          "female",
          "female",
          "female",
          "female",
          "female",
          "female",
          "female",
          "female",
          "female",
          "female",
          "female",
          "female",
          "female",
          "female",
          "female",
          "female",
          "female",
          "female",
          "female",
          "female",
          "female",
          "female",
          "female",
          "female",
          "female",
          "female",
          "female",
          "female",
          "female",
          "female",
          "female",
          "female",
          "female",
          "female",
          "female",
          "female",
          "female",
          "female",
          "female",
          "female",
          "female",
          "female",
          "female",
          "female",
          "female",
          "female",
          "female",
          "female",
          "female",
          "female",
          "female",
          "female",
          "female",
          "female",
          "female",
          "female",
          "female",
          "female",
          "female",
          "female",
          "female",
          "female",
          "female",
          "female",
          "female",
          "female",
          "female",
          "female",
          "female",
          "female",
          "female",
          "female",
          "female",
          "female",
          "female",
          "female",
          "female",
          "female",
          "female",
          "female",
          "female",
          "female",
          "female",
          "female",
          "female",
          "female",
          "female",
          "female",
          "female",
          "female",
          "female",
          "female",
          "female",
          "female",
          "female",
          "female",
          "female",
          "female",
          "female",
          "female",
          "female",
          "female",
          "female",
          "female",
          "female",
          "female",
          "female",
          "female",
          "female"
         ],
         "xaxis": "x",
         "y": [
          20.81165453,
          24.05693475,
          25.21735858,
          19.921875,
          19.10009183,
          22.43230252,
          22.75830678,
          25.63691716,
          22.10028959,
          18.75,
          19.94805977,
          19.37716263,
          25.21735858,
          24.05693475,
          20.06920415,
          20.83252961,
          24.1671624,
          25,
          21.77384236,
          27.51338489,
          25.0995016,
          36.43664485,
          22.32891328,
          21.04804761,
          21.30394858,
          34.0490306,
          27.23922448,
          19.921875,
          27.33564014,
          23.4375,
          25.20920136,
          18.75,
          20.76124567,
          21.0076678,
          18.77834467,
          23.03004535,
          24.50894577,
          21.04804761,
          23.37257618,
          23.05175491,
          23.37257618,
          23.37257618,
          23.4375,
          22.75830678,
          19.60715661,
          22.75830678,
          23.30668005,
          20.07733492,
          26.2226847,
          22.75830678,
          23.62444749,
          21.63114885,
          20.06920415,
          32.05128205,
          21.77384236,
          27.16049383,
          30.44982699,
          25.82644628,
          19.921875,
          19.921875,
          21.41094498,
          19.10009183,
          19.60715661,
          30.44982699,
          22.43230252,
          22.85714286,
          17.77777778,
          23.05175491,
          23.49523687,
          25.63691716,
          20.76124567,
          20.504934,
          19.921875,
          18.75,
          21.77843524,
          19.22337562,
          22.43230252,
          27.6816609,
          24.05693475,
          19.83516296,
          24.50894577,
          22.58270917,
          21.79930796,
          19.81405274,
          19.22337562,
          21.77384236,
          25.2825699,
          19.72386588,
          22.86236854,
          33.21799308,
          19.921875,
          26.48553975,
          22.58270917,
          23.87511478,
          18.77834467,
          29.06060712,
          23.01117686,
          21.75546853,
          25.76298058,
          22.18934911,
          21.70792339,
          18.33910035,
          25.6311675,
          23.01117686,
          20.9572742,
          19.15119182,
          28.30385016,
          20.703125,
          18.90359168,
          33.05785124,
          19.05197378,
          23.4375,
          21.70792339,
          16.89623508,
          19.05197378,
          24.6097337,
          28.3446712,
          33.9100346,
          23.7332384,
          21.71925011,
          20.95717116,
          16.60899654,
          20.2020202,
          19.48738275,
          19.48738275,
          19.48696145,
          22.86253448,
          20.07733492,
          19.37716263,
          17.578125,
          20.2020202,
          20.19509221,
          23.01117686,
          19.48696145,
          22.50692521,
          23.8330046,
          33.9100346,
          18.5546875,
          23.4375,
          21.71925011,
          19.46740129,
          21.70792339,
          27.88761707,
          27.88761707,
          22.86253448,
          22.65625,
          23.05175491,
          23.01117686,
          23.30905307,
          22.03856749,
          18.49649888,
          25.76298058,
          23.4375,
          23.7332384,
          29.51593861,
          25.6311675,
          24.6097337,
          21.93634741,
          18.359375,
          22.65625,
          25.6311675,
          22.86253448,
          20.76124567,
          16.60899654,
          21.70792339,
          19.48696145,
          17.578125,
          18.359375,
          19.70553242,
          19.37716263,
          19.70553242,
          18.49649888,
          24.6097337,
          21.93634741,
          20.07733492,
          19.48738275,
          17.578125,
          22.03856749,
          18.5546875,
          19.46740129,
          21.51142659,
          19.48696145,
          23.05175491,
          19.77769867,
          19.70553242,
          19.05197378,
          18.33910035,
          17.14677641,
          20.95717116,
          18.96192742,
          17.63085399,
          27.11111111,
          23.93948099,
          26.89767019,
          20.54988662,
          20.05385488,
          21.93634741,
          19.31295201,
          21.64412071,
          23.45856238,
          19.72103697,
          21.64412071,
          24.97704316,
          21.484375,
          17.63085399,
          24.97704316,
          19.94805977,
          21.08281329,
          25.91068435,
          26.6727633,
          21.77843524,
          21.484375,
          21.77843524,
          25.29937595,
          32.02036958,
          21.70792339,
          23.14049587,
          23.45856238,
          18.90359168,
          18.64534404,
          18.49112426,
          21.30394858,
          28.40054796,
          25.29937595,
          22.76943835,
          17.63085399,
          22.58270917,
          20.14797199,
          23.14049587,
          23.93948099,
          21.88707637,
          20.66115702,
          20.14797199,
          17.63085399,
          28.125,
          21.70792339,
          23.4375,
          23.93948099,
          21.30394858,
          27.76709812,
          15.97881665,
          17.63085399,
          23.4375,
          24.97704316,
          20.32443826,
          18.90359168,
          14.88095238,
          28.30385016,
          17.63085399,
          23.45856238,
          18.49112426,
          20.14797199,
          21.93634741,
          19.72386588,
          23.45856238,
          26.89767019,
          14.88095238,
          21.08281329,
          19.72386588,
          23.42209073,
          17.63085399,
          17.96875,
          19.94805977,
          20.05385488,
          28.125,
          20.54988662,
          19.84126984,
          21.70792339,
          20.32443826,
          23.55555556,
          24.48979592,
          25.29937595,
          25.47666009,
          24.97704316,
          22.58270917,
          25.78125,
          19.00711355,
          21.77843524,
          18.64534404,
          23.42209073,
          19.00711355,
          28.30385016,
          19.00711355,
          28.125,
          19.72103697,
          21.3577956,
          28.08163265,
          22.86236854,
          28.08163265,
          22.58270917,
          26.14268848,
          23.7332384,
          19.46803397,
          24.55775234,
          21.85223725,
          22.7189744,
          29.73390041,
          22.86236854,
          23.05456246,
          24.02380867,
          22.05170497,
          23.52941176,
          19.84126984,
          31.3364378,
          26.953125,
          25.71166208,
          22.72043837,
          22.98539751,
          27.23922448,
          20.06095444,
          25.25951557,
          27.51338489,
          19.72318339,
          22.05170497,
          19.72318339,
          21.09619051,
          18.20664543,
          19.46803397,
          26.29172382,
          22.83737024,
          19.72318339,
          27.23922448,
          32.03125,
          25.21735858,
          23.23345618,
          23.93606231,
          21.85223725,
          18.42403628,
          32.03125,
          22.265625,
          23.93606231,
          24.91990032,
          32.03125,
          22.58270917,
          22.05170497,
          24.55775234,
          21.09619051,
          29.90302875,
          21.85223725,
          23.03316776,
          19.15708812,
          22.83737024,
          19.97918835,
          21.21831719,
          29.38467611,
          23.38435374,
          25.29937595,
          22.86236854,
          24.21875,
          18.73278237,
          22.58270917,
          18.20664543,
          27.54820937,
          27.51338489,
          23.1206236,
          22.43230252,
          28.08626033,
          23.93606231,
          22.83737024,
          24.03460984,
          21.3577956,
          23.38435374,
          31.60321237,
          31.60321237,
          22.98539751,
          28.08626033,
          23.52941176,
          23.23345618,
          23.23345618,
          21.71925011,
          23.71184463,
          21.71925011,
          18.73278237,
          21.50188649,
          21.71925011,
          25.25951557,
          21.2585034,
          18.73278237,
          26.953125,
          24.43518667
         ],
         "yaxis": "y"
        },
        {
         "alignmentgroup": "True",
         "bingroup": "x",
         "histfunc": "count",
         "hovertemplate": "Sex=%{x}<br>count=%{y}<extra></extra>",
         "legendgroup": "male",
         "marker": {
          "color": "#EF553B",
          "pattern": {
           "shape": ""
          }
         },
         "name": "male",
         "offsetgroup": "male",
         "orientation": "v",
         "showlegend": true,
         "type": "histogram",
         "x": [
          "male",
          "male",
          "male",
          "male",
          "male",
          "male",
          "male",
          "male",
          "male",
          "male",
          "male",
          "male",
          "male",
          "male",
          "male",
          "male",
          "male",
          "male",
          "male",
          "male",
          "male",
          "male",
          "male",
          "male",
          "male",
          "male",
          "male",
          "male",
          "male",
          "male",
          "male",
          "male",
          "male",
          "male",
          "male",
          "male",
          "male",
          "male",
          "male",
          "male",
          "male",
          "male",
          "male",
          "male",
          "male",
          "male",
          "male",
          "male",
          "male",
          "male",
          "male",
          "male",
          "male",
          "male",
          "male",
          "male",
          "male",
          "male",
          "male",
          "male",
          "male",
          "male",
          "male",
          "male",
          "male",
          "male",
          "male",
          "male",
          "male",
          "male",
          "male",
          "male",
          "male",
          "male",
          "male",
          "male",
          "male",
          "male",
          "male",
          "male",
          "male",
          "male",
          "male",
          "male",
          "male",
          "male",
          "male",
          "male",
          "male",
          "male",
          "male",
          "male",
          "male",
          "male",
          "male",
          "male",
          "male",
          "male",
          "male",
          "male",
          "male",
          "male",
          "male",
          "male",
          "male",
          "male",
          "male",
          "male",
          "male",
          "male",
          "male",
          "male",
          "male",
          "male",
          "male",
          "male",
          "male",
          "male",
          "male",
          "male",
          "male",
          "male",
          "male",
          "male",
          "male",
          "male",
          "male",
          "male",
          "male",
          "male",
          "male",
          "male",
          "male",
          "male",
          "male",
          "male",
          "male",
          "male",
          "male",
          "male",
          "male",
          "male",
          "male",
          "male",
          "male",
          "male",
          "male",
          "male",
          "male",
          "male",
          "male",
          "male",
          "male",
          "male",
          "male",
          "male",
          "male",
          "male",
          "male",
          "male",
          "male",
          "male",
          "male",
          "male",
          "male",
          "male",
          "male",
          "male",
          "male",
          "male",
          "male",
          "male",
          "male",
          "male",
          "male",
          "male",
          "male",
          "male",
          "male",
          "male",
          "male",
          "male",
          "male",
          "male",
          "male",
          "male",
          "male",
          "male",
          "male",
          "male",
          "male",
          "male",
          "male",
          "male",
          "male",
          "male",
          "male",
          "male",
          "male",
          "male",
          "male",
          "male",
          "male",
          "male",
          "male",
          "male",
          "male",
          "male",
          "male",
          "male",
          "male",
          "male",
          "male",
          "male",
          "male",
          "male",
          "male",
          "male",
          "male",
          "male",
          "male",
          "male",
          "male",
          "male",
          "male",
          "male",
          "male",
          "male",
          "male",
          "male",
          "male",
          "male",
          "male",
          "male",
          "male",
          "male",
          "male",
          "male",
          "male",
          "male",
          "male",
          "male",
          "male",
          "male",
          "male",
          "male",
          "male",
          "male",
          "male",
          "male",
          "male",
          "male",
          "male",
          "male",
          "male",
          "male",
          "male",
          "male",
          "male",
          "male",
          "male",
          "male",
          "male",
          "male",
          "male",
          "male",
          "male",
          "male",
          "male",
          "male",
          "male",
          "male",
          "male",
          "male",
          "male",
          "male",
          "male",
          "male",
          "male",
          "male",
          "male",
          "male",
          "male",
          "male",
          "male",
          "male",
          "male",
          "male",
          "male",
          "male",
          "male",
          "male",
          "male",
          "male",
          "male",
          "male",
          "male",
          "male",
          "male",
          "male",
          "male",
          "male",
          "male",
          "male",
          "male",
          "male",
          "male",
          "male",
          "male",
          "male",
          "male",
          "male",
          "male",
          "male",
          "male",
          "male",
          "male",
          "male",
          "male",
          "male",
          "male",
          "male",
          "male",
          "male",
          "male",
          "male",
          "male",
          "male",
          "male",
          "male",
          "male",
          "male",
          "male",
          "male",
          "male",
          "male",
          "male",
          "male",
          "male",
          "male",
          "male",
          "male",
          "male",
          "male",
          "male",
          "male",
          "male",
          "male",
          "male",
          "male",
          "male",
          "male",
          "male",
          "male",
          "male",
          "male",
          "male",
          "male",
          "male",
          "male",
          "male",
          "male",
          "male",
          "male",
          "male",
          "male",
          "male",
          "male",
          "male",
          "male",
          "male",
          "male",
          "male",
          "male",
          "male",
          "male",
          "male",
          "male",
          "male",
          "male"
         ],
         "xaxis": "x",
         "y": [
          27.77777778,
          35.67181926,
          24.48979592,
          23.62028791,
          23.24380165,
          23.24380165,
          23.80869017,
          21.4532872,
          30.47796622,
          21.67211013,
          20.83070319,
          23.12406059,
          21.60493827,
          29.536862,
          25.71219869,
          26.21882086,
          21.51385851,
          20.66115702,
          35.67181926,
          20.51913409,
          24.67550027,
          17.57706869,
          20.61925365,
          35.67181926,
          22.72440348,
          20.00656932,
          20.4824761,
          19.72318339,
          23.4375,
          23.52941176,
          24.74274483,
          21.43460935,
          27.77777778,
          22.12973973,
          21.2244898,
          27.33564014,
          26.2345679,
          35.67181926,
          19.59183673,
          20.4824761,
          26.2345679,
          30.24691358,
          20.41522491,
          18.25310979,
          28.73192149,
          22.85714286,
          21.26654064,
          23.62028791,
          32.69054178,
          25.18078512,
          24.21229339,
          21.43460935,
          25.18078512,
          19.72318339,
          26.44628099,
          20.23355301,
          21.51385851,
          24.67550027,
          22.85714286,
          22.83737024,
          19.20415225,
          21.60493827,
          19.13580247,
          27.77670615,
          23.51020408,
          33.33333333,
          24.67550027,
          35.67181926,
          16.70620468,
          27.33564014,
          20.66115702,
          27.54820937,
          25.82644628,
          19.59183673,
          19.84126984,
          20.90238586,
          34.28571429,
          27.42857143,
          23.67125363,
          25.18078512,
          24.22145329,
          21.9138057,
          18.25310979,
          24.81481481,
          26.55596594,
          27.16691927,
          22.83737024,
          25.10239133,
          19.72318339,
          19.13580247,
          25.82644628,
          26.21882086,
          35.67181926,
          23.12406059,
          34.28571429,
          23.26869806,
          22.03856749,
          25.390625,
          22.54595907,
          29.0687733,
          24.22145329,
          23.12406059,
          24.48565201,
          26.85185185,
          23.98687034,
          23.98687034,
          24.22145329,
          35.91836735,
          27.17063157,
          26.85185185,
          20.90419501,
          19.25261962,
          22.64737696,
          25.21735858,
          25.46938776,
          21.97735112,
          19.72103697,
          25.33500198,
          21.63331531,
          26.98961938,
          25.21735858,
          21.97735112,
          25.21735858,
          25.55932916,
          22.47120876,
          23.52941176,
          31.45643284,
          26.98961938,
          25.53544639,
          31.45643284,
          24.67550027,
          21.38099285,
          22.72440348,
          21.63331531,
          22.99168975,
          22.49134948,
          25.61728395,
          25.01352082,
          23.12406059,
          25.46938776,
          26.88172043,
          28.982007,
          21.15885417,
          23.88946281,
          25.68956193,
          26.88172043,
          22.72440348,
          23.98687034,
          22.64737696,
          25.46938776,
          22.28259211,
          22.85714286,
          30.47796622,
          20.56932966,
          21.15885417,
          24.22145329,
          23.44934084,
          20.76124567,
          25.53544639,
          25.53544639,
          17.7221172,
          23.88946281,
          30.47796622,
          22.72440348,
          25.53544639,
          23.37472608,
          25.21735858,
          24.69135802,
          21.0076678,
          19.25261962,
          23.98687034,
          22.85714286,
          20.38156971,
          23.44934084,
          20.0617284,
          25.01352082,
          22.64737696,
          29.0687733,
          26.29757785,
          22.99168975,
          30.47796622,
          22.12973973,
          20.19946976,
          22.72440348,
          25.46938776,
          28.982007,
          21.0076678,
          25.46938776,
          22.72440348,
          23.12406059,
          21.63331531,
          19.75308642,
          28.07631929,
          22.85714286,
          28.40533756,
          29.3523545,
          24.05693475,
          28.40533756,
          28.07631929,
          25.59220998,
          20.52892163,
          29.3523545,
          23.80869017,
          21.5349084,
          26.82742078,
          20.70081674,
          21.61281179,
          26.70362358,
          25.61728395,
          19.75308642,
          20.52892163,
          22.46003435,
          25.59220998,
          21.79930796,
          23.66143862,
          28.07504294,
          25.59220998,
          24.85795455,
          26.06167931,
          26.51180407,
          25.59220998,
          20.0617284,
          26.06167931,
          23.87511478,
          29.3523545,
          27.44059917,
          26.82742078,
          24.21229339,
          18.9370029,
          33.56401384,
          25.82644628,
          18.9370029,
          21.91358025,
          21.63331531,
          25.61728395,
          24.22145329,
          22.54595907,
          25.60553633,
          26.52851035,
          23.80869017,
          22.5981405,
          20.52892163,
          18.36547291,
          23.73866213,
          21.91358025,
          21.61281179,
          24.21229339,
          20.47826661,
          22.5981405,
          22.54595907,
          20.0617284,
          21.0498179,
          25.40170132,
          21.0498179,
          28.40533756,
          22.5981405,
          29.05328798,
          25.2493372,
          22.47120876,
          22.85714286,
          26.82742078,
          26.06167931,
          25.59220998,
          23.10843458,
          29.3523545,
          25.40170132,
          26.52851035,
          20.54988662,
          22.5981405,
          21.51385851,
          24.1516725,
          24.69135802,
          24.22145329,
          23.66143862,
          22.5981405,
          23.10843458,
          26.70362358,
          25.2493372,
          22.85714286,
          26.82742078,
          22.54595907,
          26.51180407,
          30.02659498,
          22.54595907,
          24.48979592,
          27.16049383,
          27.45865421,
          27.76342975,
          19.48696145,
          28.73174689,
          18.39067451,
          21.10726644,
          21.10726644,
          22.5981405,
          22.5981405,
          25.30864198,
          25.72755521,
          22.72043837,
          27.16049383,
          24.22145329,
          26.06167931,
          25.2493372,
          18.39067451,
          23.7953599,
          23.59700421,
          24.22145329,
          22.72043837,
          24.22145329,
          21.10726644,
          19.0194421,
          28.40818411,
          24.11150746,
          19.88385305,
          28.40818411,
          24.83564646,
          27.76342975,
          21.5349084,
          23.1206236,
          27.18089991,
          26.21882086,
          25.30864198,
          23.58983547,
          27.18089991,
          26.30943113,
          23.14814815,
          25.61728395,
          25.66115203,
          21.5349084,
          21.84700852,
          25.94548396,
          20.74755019,
          27.17310162,
          19.88385305,
          24.33747972,
          26.21882086,
          25.82644628,
          22.83950617,
          25.2493372,
          25.46938776,
          27.45865421,
          27.16049383,
          22.83950617,
          24.22145329,
          27.16049383,
          27.76342975,
          26.21882086,
          28.37370242,
          25.2493372,
          26.30943113,
          29.05475207,
          19.0194421,
          22.83950617,
          21.84700852,
          24.22145329,
          26.12244898,
          24.03170937,
          17.05617651,
          28.65013774,
          21.10726644,
          24.22145329,
          25.2493372,
          21.10726644,
          22.5981405,
          26.21882086,
          27.18089991,
          25.46938776,
          24.16326531,
          24.33747972,
          23.14814815,
          22.5981405,
          26.85185185,
          28.03792346,
          22.47120876,
          25.2493372,
          24.83564646,
          22.47120876,
          22.72043837,
          24.22145329,
          24.33747972,
          28.40533756
         ],
         "yaxis": "y"
        }
       ],
       "layout": {
        "barmode": "relative",
        "legend": {
         "title": {
          "text": "Sex"
         },
         "tracegroupgap": 0
        },
        "template": {
         "data": {
          "bar": [
           {
            "error_x": {
             "color": "#2a3f5f"
            },
            "error_y": {
             "color": "#2a3f5f"
            },
            "marker": {
             "line": {
              "color": "#E5ECF6",
              "width": 0.5
             },
             "pattern": {
              "fillmode": "overlay",
              "size": 10,
              "solidity": 0.2
             }
            },
            "type": "bar"
           }
          ],
          "barpolar": [
           {
            "marker": {
             "line": {
              "color": "#E5ECF6",
              "width": 0.5
             },
             "pattern": {
              "fillmode": "overlay",
              "size": 10,
              "solidity": 0.2
             }
            },
            "type": "barpolar"
           }
          ],
          "carpet": [
           {
            "aaxis": {
             "endlinecolor": "#2a3f5f",
             "gridcolor": "white",
             "linecolor": "white",
             "minorgridcolor": "white",
             "startlinecolor": "#2a3f5f"
            },
            "baxis": {
             "endlinecolor": "#2a3f5f",
             "gridcolor": "white",
             "linecolor": "white",
             "minorgridcolor": "white",
             "startlinecolor": "#2a3f5f"
            },
            "type": "carpet"
           }
          ],
          "choropleth": [
           {
            "colorbar": {
             "outlinewidth": 0,
             "ticks": ""
            },
            "type": "choropleth"
           }
          ],
          "contour": [
           {
            "colorbar": {
             "outlinewidth": 0,
             "ticks": ""
            },
            "colorscale": [
             [
              0,
              "#0d0887"
             ],
             [
              0.1111111111111111,
              "#46039f"
             ],
             [
              0.2222222222222222,
              "#7201a8"
             ],
             [
              0.3333333333333333,
              "#9c179e"
             ],
             [
              0.4444444444444444,
              "#bd3786"
             ],
             [
              0.5555555555555556,
              "#d8576b"
             ],
             [
              0.6666666666666666,
              "#ed7953"
             ],
             [
              0.7777777777777778,
              "#fb9f3a"
             ],
             [
              0.8888888888888888,
              "#fdca26"
             ],
             [
              1,
              "#f0f921"
             ]
            ],
            "type": "contour"
           }
          ],
          "contourcarpet": [
           {
            "colorbar": {
             "outlinewidth": 0,
             "ticks": ""
            },
            "type": "contourcarpet"
           }
          ],
          "heatmap": [
           {
            "colorbar": {
             "outlinewidth": 0,
             "ticks": ""
            },
            "colorscale": [
             [
              0,
              "#0d0887"
             ],
             [
              0.1111111111111111,
              "#46039f"
             ],
             [
              0.2222222222222222,
              "#7201a8"
             ],
             [
              0.3333333333333333,
              "#9c179e"
             ],
             [
              0.4444444444444444,
              "#bd3786"
             ],
             [
              0.5555555555555556,
              "#d8576b"
             ],
             [
              0.6666666666666666,
              "#ed7953"
             ],
             [
              0.7777777777777778,
              "#fb9f3a"
             ],
             [
              0.8888888888888888,
              "#fdca26"
             ],
             [
              1,
              "#f0f921"
             ]
            ],
            "type": "heatmap"
           }
          ],
          "heatmapgl": [
           {
            "colorbar": {
             "outlinewidth": 0,
             "ticks": ""
            },
            "colorscale": [
             [
              0,
              "#0d0887"
             ],
             [
              0.1111111111111111,
              "#46039f"
             ],
             [
              0.2222222222222222,
              "#7201a8"
             ],
             [
              0.3333333333333333,
              "#9c179e"
             ],
             [
              0.4444444444444444,
              "#bd3786"
             ],
             [
              0.5555555555555556,
              "#d8576b"
             ],
             [
              0.6666666666666666,
              "#ed7953"
             ],
             [
              0.7777777777777778,
              "#fb9f3a"
             ],
             [
              0.8888888888888888,
              "#fdca26"
             ],
             [
              1,
              "#f0f921"
             ]
            ],
            "type": "heatmapgl"
           }
          ],
          "histogram": [
           {
            "marker": {
             "pattern": {
              "fillmode": "overlay",
              "size": 10,
              "solidity": 0.2
             }
            },
            "type": "histogram"
           }
          ],
          "histogram2d": [
           {
            "colorbar": {
             "outlinewidth": 0,
             "ticks": ""
            },
            "colorscale": [
             [
              0,
              "#0d0887"
             ],
             [
              0.1111111111111111,
              "#46039f"
             ],
             [
              0.2222222222222222,
              "#7201a8"
             ],
             [
              0.3333333333333333,
              "#9c179e"
             ],
             [
              0.4444444444444444,
              "#bd3786"
             ],
             [
              0.5555555555555556,
              "#d8576b"
             ],
             [
              0.6666666666666666,
              "#ed7953"
             ],
             [
              0.7777777777777778,
              "#fb9f3a"
             ],
             [
              0.8888888888888888,
              "#fdca26"
             ],
             [
              1,
              "#f0f921"
             ]
            ],
            "type": "histogram2d"
           }
          ],
          "histogram2dcontour": [
           {
            "colorbar": {
             "outlinewidth": 0,
             "ticks": ""
            },
            "colorscale": [
             [
              0,
              "#0d0887"
             ],
             [
              0.1111111111111111,
              "#46039f"
             ],
             [
              0.2222222222222222,
              "#7201a8"
             ],
             [
              0.3333333333333333,
              "#9c179e"
             ],
             [
              0.4444444444444444,
              "#bd3786"
             ],
             [
              0.5555555555555556,
              "#d8576b"
             ],
             [
              0.6666666666666666,
              "#ed7953"
             ],
             [
              0.7777777777777778,
              "#fb9f3a"
             ],
             [
              0.8888888888888888,
              "#fdca26"
             ],
             [
              1,
              "#f0f921"
             ]
            ],
            "type": "histogram2dcontour"
           }
          ],
          "mesh3d": [
           {
            "colorbar": {
             "outlinewidth": 0,
             "ticks": ""
            },
            "type": "mesh3d"
           }
          ],
          "parcoords": [
           {
            "line": {
             "colorbar": {
              "outlinewidth": 0,
              "ticks": ""
             }
            },
            "type": "parcoords"
           }
          ],
          "pie": [
           {
            "automargin": true,
            "type": "pie"
           }
          ],
          "scatter": [
           {
            "marker": {
             "colorbar": {
              "outlinewidth": 0,
              "ticks": ""
             }
            },
            "type": "scatter"
           }
          ],
          "scatter3d": [
           {
            "line": {
             "colorbar": {
              "outlinewidth": 0,
              "ticks": ""
             }
            },
            "marker": {
             "colorbar": {
              "outlinewidth": 0,
              "ticks": ""
             }
            },
            "type": "scatter3d"
           }
          ],
          "scattercarpet": [
           {
            "marker": {
             "colorbar": {
              "outlinewidth": 0,
              "ticks": ""
             }
            },
            "type": "scattercarpet"
           }
          ],
          "scattergeo": [
           {
            "marker": {
             "colorbar": {
              "outlinewidth": 0,
              "ticks": ""
             }
            },
            "type": "scattergeo"
           }
          ],
          "scattergl": [
           {
            "marker": {
             "colorbar": {
              "outlinewidth": 0,
              "ticks": ""
             }
            },
            "type": "scattergl"
           }
          ],
          "scattermapbox": [
           {
            "marker": {
             "colorbar": {
              "outlinewidth": 0,
              "ticks": ""
             }
            },
            "type": "scattermapbox"
           }
          ],
          "scatterpolar": [
           {
            "marker": {
             "colorbar": {
              "outlinewidth": 0,
              "ticks": ""
             }
            },
            "type": "scatterpolar"
           }
          ],
          "scatterpolargl": [
           {
            "marker": {
             "colorbar": {
              "outlinewidth": 0,
              "ticks": ""
             }
            },
            "type": "scatterpolargl"
           }
          ],
          "scatterternary": [
           {
            "marker": {
             "colorbar": {
              "outlinewidth": 0,
              "ticks": ""
             }
            },
            "type": "scatterternary"
           }
          ],
          "surface": [
           {
            "colorbar": {
             "outlinewidth": 0,
             "ticks": ""
            },
            "colorscale": [
             [
              0,
              "#0d0887"
             ],
             [
              0.1111111111111111,
              "#46039f"
             ],
             [
              0.2222222222222222,
              "#7201a8"
             ],
             [
              0.3333333333333333,
              "#9c179e"
             ],
             [
              0.4444444444444444,
              "#bd3786"
             ],
             [
              0.5555555555555556,
              "#d8576b"
             ],
             [
              0.6666666666666666,
              "#ed7953"
             ],
             [
              0.7777777777777778,
              "#fb9f3a"
             ],
             [
              0.8888888888888888,
              "#fdca26"
             ],
             [
              1,
              "#f0f921"
             ]
            ],
            "type": "surface"
           }
          ],
          "table": [
           {
            "cells": {
             "fill": {
              "color": "#EBF0F8"
             },
             "line": {
              "color": "white"
             }
            },
            "header": {
             "fill": {
              "color": "#C8D4E3"
             },
             "line": {
              "color": "white"
             }
            },
            "type": "table"
           }
          ]
         },
         "layout": {
          "annotationdefaults": {
           "arrowcolor": "#2a3f5f",
           "arrowhead": 0,
           "arrowwidth": 1
          },
          "autotypenumbers": "strict",
          "coloraxis": {
           "colorbar": {
            "outlinewidth": 0,
            "ticks": ""
           }
          },
          "colorscale": {
           "diverging": [
            [
             0,
             "#8e0152"
            ],
            [
             0.1,
             "#c51b7d"
            ],
            [
             0.2,
             "#de77ae"
            ],
            [
             0.3,
             "#f1b6da"
            ],
            [
             0.4,
             "#fde0ef"
            ],
            [
             0.5,
             "#f7f7f7"
            ],
            [
             0.6,
             "#e6f5d0"
            ],
            [
             0.7,
             "#b8e186"
            ],
            [
             0.8,
             "#7fbc41"
            ],
            [
             0.9,
             "#4d9221"
            ],
            [
             1,
             "#276419"
            ]
           ],
           "sequential": [
            [
             0,
             "#0d0887"
            ],
            [
             0.1111111111111111,
             "#46039f"
            ],
            [
             0.2222222222222222,
             "#7201a8"
            ],
            [
             0.3333333333333333,
             "#9c179e"
            ],
            [
             0.4444444444444444,
             "#bd3786"
            ],
            [
             0.5555555555555556,
             "#d8576b"
            ],
            [
             0.6666666666666666,
             "#ed7953"
            ],
            [
             0.7777777777777778,
             "#fb9f3a"
            ],
            [
             0.8888888888888888,
             "#fdca26"
            ],
            [
             1,
             "#f0f921"
            ]
           ],
           "sequentialminus": [
            [
             0,
             "#0d0887"
            ],
            [
             0.1111111111111111,
             "#46039f"
            ],
            [
             0.2222222222222222,
             "#7201a8"
            ],
            [
             0.3333333333333333,
             "#9c179e"
            ],
            [
             0.4444444444444444,
             "#bd3786"
            ],
            [
             0.5555555555555556,
             "#d8576b"
            ],
            [
             0.6666666666666666,
             "#ed7953"
            ],
            [
             0.7777777777777778,
             "#fb9f3a"
            ],
            [
             0.8888888888888888,
             "#fdca26"
            ],
            [
             1,
             "#f0f921"
            ]
           ]
          },
          "colorway": [
           "#636efa",
           "#EF553B",
           "#00cc96",
           "#ab63fa",
           "#FFA15A",
           "#19d3f3",
           "#FF6692",
           "#B6E880",
           "#FF97FF",
           "#FECB52"
          ],
          "font": {
           "color": "#2a3f5f"
          },
          "geo": {
           "bgcolor": "white",
           "lakecolor": "white",
           "landcolor": "#E5ECF6",
           "showlakes": true,
           "showland": true,
           "subunitcolor": "white"
          },
          "hoverlabel": {
           "align": "left"
          },
          "hovermode": "closest",
          "mapbox": {
           "style": "light"
          },
          "paper_bgcolor": "white",
          "plot_bgcolor": "#E5ECF6",
          "polar": {
           "angularaxis": {
            "gridcolor": "white",
            "linecolor": "white",
            "ticks": ""
           },
           "bgcolor": "#E5ECF6",
           "radialaxis": {
            "gridcolor": "white",
            "linecolor": "white",
            "ticks": ""
           }
          },
          "scene": {
           "xaxis": {
            "backgroundcolor": "#E5ECF6",
            "gridcolor": "white",
            "gridwidth": 2,
            "linecolor": "white",
            "showbackground": true,
            "ticks": "",
            "zerolinecolor": "white"
           },
           "yaxis": {
            "backgroundcolor": "#E5ECF6",
            "gridcolor": "white",
            "gridwidth": 2,
            "linecolor": "white",
            "showbackground": true,
            "ticks": "",
            "zerolinecolor": "white"
           },
           "zaxis": {
            "backgroundcolor": "#E5ECF6",
            "gridcolor": "white",
            "gridwidth": 2,
            "linecolor": "white",
            "showbackground": true,
            "ticks": "",
            "zerolinecolor": "white"
           }
          },
          "shapedefaults": {
           "line": {
            "color": "#2a3f5f"
           }
          },
          "ternary": {
           "aaxis": {
            "gridcolor": "white",
            "linecolor": "white",
            "ticks": ""
           },
           "baxis": {
            "gridcolor": "white",
            "linecolor": "white",
            "ticks": ""
           },
           "bgcolor": "#E5ECF6",
           "caxis": {
            "gridcolor": "white",
            "linecolor": "white",
            "ticks": ""
           }
          },
          "title": {
           "x": 0.05
          },
          "xaxis": {
           "automargin": true,
           "gridcolor": "white",
           "linecolor": "white",
           "ticks": "",
           "title": {
            "standoff": 15
           },
           "zerolinecolor": "white",
           "zerolinewidth": 2
          },
          "yaxis": {
           "automargin": true,
           "gridcolor": "white",
           "linecolor": "white",
           "ticks": "",
           "title": {
            "standoff": 15
           },
           "zerolinecolor": "white",
           "zerolinewidth": 2
          }
         }
        },
        "title": {
         "text": "Count of Subjects by Gender"
        },
        "xaxis": {
         "anchor": "y",
         "categoryarray": [
          "female",
          "male"
         ],
         "categoryorder": "array",
         "domain": [
          0,
          1
         ],
         "title": {
          "text": "Sex"
         }
        },
        "yaxis": {
         "anchor": "x",
         "domain": [
          0,
          1
         ],
         "title": {
          "text": "count"
         }
        }
       }
      }
     },
     "metadata": {},
     "output_type": "display_data"
    }
   ],
   "source": [
    "#Average count of subjects by gender\n",
    "fig = px.histogram(df_strat, x='gender', y='bmi', color='gender', histfunc='count', labels={'gender':'Sex', 'bmi':'BMI'}, title=\"Count of Subjects by Gender\")\n",
    "fig.show()"
   ]
  },
  {
   "cell_type": "code",
   "execution_count": 35,
   "id": "31b6e964",
   "metadata": {},
   "outputs": [
    {
     "data": {
      "application/vnd.plotly.v1+json": {
       "config": {
        "plotlyServerURL": "https://plot.ly"
       },
       "data": [
        {
         "alignmentgroup": "True",
         "bingroup": "x",
         "histfunc": "avg",
         "hovertemplate": "Sex=%{x}<br>avg of BMI=%{y}<extra></extra>",
         "legendgroup": "female",
         "marker": {
          "color": "#636efa",
          "pattern": {
           "shape": ""
          }
         },
         "name": "female",
         "offsetgroup": "female",
         "orientation": "v",
         "showlegend": true,
         "type": "histogram",
         "x": [
          "female",
          "female",
          "female",
          "female",
          "female",
          "female",
          "female",
          "female",
          "female",
          "female",
          "female",
          "female",
          "female",
          "female",
          "female",
          "female",
          "female",
          "female",
          "female",
          "female",
          "female",
          "female",
          "female",
          "female",
          "female",
          "female",
          "female",
          "female",
          "female",
          "female",
          "female",
          "female",
          "female",
          "female",
          "female",
          "female",
          "female",
          "female",
          "female",
          "female",
          "female",
          "female",
          "female",
          "female",
          "female",
          "female",
          "female",
          "female",
          "female",
          "female",
          "female",
          "female",
          "female",
          "female",
          "female",
          "female",
          "female",
          "female",
          "female",
          "female",
          "female",
          "female",
          "female",
          "female",
          "female",
          "female",
          "female",
          "female",
          "female",
          "female",
          "female",
          "female",
          "female",
          "female",
          "female",
          "female",
          "female",
          "female",
          "female",
          "female",
          "female",
          "female",
          "female",
          "female",
          "female",
          "female",
          "female",
          "female",
          "female",
          "female",
          "female",
          "female",
          "female",
          "female",
          "female",
          "female",
          "female",
          "female",
          "female",
          "female",
          "female",
          "female",
          "female",
          "female",
          "female",
          "female",
          "female",
          "female",
          "female",
          "female",
          "female",
          "female",
          "female",
          "female",
          "female",
          "female",
          "female",
          "female",
          "female",
          "female",
          "female",
          "female",
          "female",
          "female",
          "female",
          "female",
          "female",
          "female",
          "female",
          "female",
          "female",
          "female",
          "female",
          "female",
          "female",
          "female",
          "female",
          "female",
          "female",
          "female",
          "female",
          "female",
          "female",
          "female",
          "female",
          "female",
          "female",
          "female",
          "female",
          "female",
          "female",
          "female",
          "female",
          "female",
          "female",
          "female",
          "female",
          "female",
          "female",
          "female",
          "female",
          "female",
          "female",
          "female",
          "female",
          "female",
          "female",
          "female",
          "female",
          "female",
          "female",
          "female",
          "female",
          "female",
          "female",
          "female",
          "female",
          "female",
          "female",
          "female",
          "female",
          "female",
          "female",
          "female",
          "female",
          "female",
          "female",
          "female",
          "female",
          "female",
          "female",
          "female",
          "female",
          "female",
          "female",
          "female",
          "female",
          "female",
          "female",
          "female",
          "female",
          "female",
          "female",
          "female",
          "female",
          "female",
          "female",
          "female",
          "female",
          "female",
          "female",
          "female",
          "female",
          "female",
          "female",
          "female",
          "female",
          "female",
          "female",
          "female",
          "female",
          "female",
          "female",
          "female",
          "female",
          "female",
          "female",
          "female",
          "female",
          "female",
          "female",
          "female",
          "female",
          "female",
          "female",
          "female",
          "female",
          "female",
          "female",
          "female",
          "female",
          "female",
          "female",
          "female",
          "female",
          "female",
          "female",
          "female",
          "female",
          "female",
          "female",
          "female",
          "female",
          "female",
          "female",
          "female",
          "female",
          "female",
          "female",
          "female",
          "female",
          "female",
          "female",
          "female",
          "female",
          "female",
          "female",
          "female",
          "female",
          "female",
          "female",
          "female",
          "female",
          "female",
          "female",
          "female",
          "female",
          "female",
          "female",
          "female",
          "female",
          "female",
          "female",
          "female",
          "female",
          "female",
          "female",
          "female",
          "female",
          "female",
          "female",
          "female",
          "female",
          "female",
          "female",
          "female",
          "female",
          "female",
          "female",
          "female",
          "female",
          "female",
          "female",
          "female",
          "female",
          "female",
          "female",
          "female",
          "female",
          "female",
          "female",
          "female",
          "female",
          "female",
          "female",
          "female",
          "female",
          "female",
          "female",
          "female",
          "female",
          "female",
          "female",
          "female",
          "female",
          "female",
          "female",
          "female",
          "female",
          "female",
          "female",
          "female",
          "female",
          "female",
          "female",
          "female",
          "female",
          "female",
          "female",
          "female",
          "female",
          "female",
          "female",
          "female",
          "female",
          "female",
          "female",
          "female",
          "female",
          "female",
          "female",
          "female",
          "female",
          "female",
          "female",
          "female",
          "female",
          "female",
          "female",
          "female",
          "female",
          "female",
          "female",
          "female",
          "female",
          "female",
          "female",
          "female",
          "female",
          "female",
          "female",
          "female",
          "female",
          "female",
          "female",
          "female",
          "female",
          "female",
          "female",
          "female"
         ],
         "xaxis": "x",
         "y": [
          20.81165453,
          24.05693475,
          25.21735858,
          19.921875,
          19.10009183,
          22.43230252,
          22.75830678,
          25.63691716,
          22.10028959,
          18.75,
          19.94805977,
          19.37716263,
          25.21735858,
          24.05693475,
          20.06920415,
          20.83252961,
          24.1671624,
          25,
          21.77384236,
          27.51338489,
          25.0995016,
          36.43664485,
          22.32891328,
          21.04804761,
          21.30394858,
          34.0490306,
          27.23922448,
          19.921875,
          27.33564014,
          23.4375,
          25.20920136,
          18.75,
          20.76124567,
          21.0076678,
          18.77834467,
          23.03004535,
          24.50894577,
          21.04804761,
          23.37257618,
          23.05175491,
          23.37257618,
          23.37257618,
          23.4375,
          22.75830678,
          19.60715661,
          22.75830678,
          23.30668005,
          20.07733492,
          26.2226847,
          22.75830678,
          23.62444749,
          21.63114885,
          20.06920415,
          32.05128205,
          21.77384236,
          27.16049383,
          30.44982699,
          25.82644628,
          19.921875,
          19.921875,
          21.41094498,
          19.10009183,
          19.60715661,
          30.44982699,
          22.43230252,
          22.85714286,
          17.77777778,
          23.05175491,
          23.49523687,
          25.63691716,
          20.76124567,
          20.504934,
          19.921875,
          18.75,
          21.77843524,
          19.22337562,
          22.43230252,
          27.6816609,
          24.05693475,
          19.83516296,
          24.50894577,
          22.58270917,
          21.79930796,
          19.81405274,
          19.22337562,
          21.77384236,
          25.2825699,
          19.72386588,
          22.86236854,
          33.21799308,
          19.921875,
          26.48553975,
          22.58270917,
          23.87511478,
          18.77834467,
          29.06060712,
          23.01117686,
          21.75546853,
          25.76298058,
          22.18934911,
          21.70792339,
          18.33910035,
          25.6311675,
          23.01117686,
          20.9572742,
          19.15119182,
          28.30385016,
          20.703125,
          18.90359168,
          33.05785124,
          19.05197378,
          23.4375,
          21.70792339,
          16.89623508,
          19.05197378,
          24.6097337,
          28.3446712,
          33.9100346,
          23.7332384,
          21.71925011,
          20.95717116,
          16.60899654,
          20.2020202,
          19.48738275,
          19.48738275,
          19.48696145,
          22.86253448,
          20.07733492,
          19.37716263,
          17.578125,
          20.2020202,
          20.19509221,
          23.01117686,
          19.48696145,
          22.50692521,
          23.8330046,
          33.9100346,
          18.5546875,
          23.4375,
          21.71925011,
          19.46740129,
          21.70792339,
          27.88761707,
          27.88761707,
          22.86253448,
          22.65625,
          23.05175491,
          23.01117686,
          23.30905307,
          22.03856749,
          18.49649888,
          25.76298058,
          23.4375,
          23.7332384,
          29.51593861,
          25.6311675,
          24.6097337,
          21.93634741,
          18.359375,
          22.65625,
          25.6311675,
          22.86253448,
          20.76124567,
          16.60899654,
          21.70792339,
          19.48696145,
          17.578125,
          18.359375,
          19.70553242,
          19.37716263,
          19.70553242,
          18.49649888,
          24.6097337,
          21.93634741,
          20.07733492,
          19.48738275,
          17.578125,
          22.03856749,
          18.5546875,
          19.46740129,
          21.51142659,
          19.48696145,
          23.05175491,
          19.77769867,
          19.70553242,
          19.05197378,
          18.33910035,
          17.14677641,
          20.95717116,
          18.96192742,
          17.63085399,
          27.11111111,
          23.93948099,
          26.89767019,
          20.54988662,
          20.05385488,
          21.93634741,
          19.31295201,
          21.64412071,
          23.45856238,
          19.72103697,
          21.64412071,
          24.97704316,
          21.484375,
          17.63085399,
          24.97704316,
          19.94805977,
          21.08281329,
          25.91068435,
          26.6727633,
          21.77843524,
          21.484375,
          21.77843524,
          25.29937595,
          32.02036958,
          21.70792339,
          23.14049587,
          23.45856238,
          18.90359168,
          18.64534404,
          18.49112426,
          21.30394858,
          28.40054796,
          25.29937595,
          22.76943835,
          17.63085399,
          22.58270917,
          20.14797199,
          23.14049587,
          23.93948099,
          21.88707637,
          20.66115702,
          20.14797199,
          17.63085399,
          28.125,
          21.70792339,
          23.4375,
          23.93948099,
          21.30394858,
          27.76709812,
          15.97881665,
          17.63085399,
          23.4375,
          24.97704316,
          20.32443826,
          18.90359168,
          14.88095238,
          28.30385016,
          17.63085399,
          23.45856238,
          18.49112426,
          20.14797199,
          21.93634741,
          19.72386588,
          23.45856238,
          26.89767019,
          14.88095238,
          21.08281329,
          19.72386588,
          23.42209073,
          17.63085399,
          17.96875,
          19.94805977,
          20.05385488,
          28.125,
          20.54988662,
          19.84126984,
          21.70792339,
          20.32443826,
          23.55555556,
          24.48979592,
          25.29937595,
          25.47666009,
          24.97704316,
          22.58270917,
          25.78125,
          19.00711355,
          21.77843524,
          18.64534404,
          23.42209073,
          19.00711355,
          28.30385016,
          19.00711355,
          28.125,
          19.72103697,
          21.3577956,
          28.08163265,
          22.86236854,
          28.08163265,
          22.58270917,
          26.14268848,
          23.7332384,
          19.46803397,
          24.55775234,
          21.85223725,
          22.7189744,
          29.73390041,
          22.86236854,
          23.05456246,
          24.02380867,
          22.05170497,
          23.52941176,
          19.84126984,
          31.3364378,
          26.953125,
          25.71166208,
          22.72043837,
          22.98539751,
          27.23922448,
          20.06095444,
          25.25951557,
          27.51338489,
          19.72318339,
          22.05170497,
          19.72318339,
          21.09619051,
          18.20664543,
          19.46803397,
          26.29172382,
          22.83737024,
          19.72318339,
          27.23922448,
          32.03125,
          25.21735858,
          23.23345618,
          23.93606231,
          21.85223725,
          18.42403628,
          32.03125,
          22.265625,
          23.93606231,
          24.91990032,
          32.03125,
          22.58270917,
          22.05170497,
          24.55775234,
          21.09619051,
          29.90302875,
          21.85223725,
          23.03316776,
          19.15708812,
          22.83737024,
          19.97918835,
          21.21831719,
          29.38467611,
          23.38435374,
          25.29937595,
          22.86236854,
          24.21875,
          18.73278237,
          22.58270917,
          18.20664543,
          27.54820937,
          27.51338489,
          23.1206236,
          22.43230252,
          28.08626033,
          23.93606231,
          22.83737024,
          24.03460984,
          21.3577956,
          23.38435374,
          31.60321237,
          31.60321237,
          22.98539751,
          28.08626033,
          23.52941176,
          23.23345618,
          23.23345618,
          21.71925011,
          23.71184463,
          21.71925011,
          18.73278237,
          21.50188649,
          21.71925011,
          25.25951557,
          21.2585034,
          18.73278237,
          26.953125,
          24.43518667
         ],
         "yaxis": "y"
        },
        {
         "alignmentgroup": "True",
         "bingroup": "x",
         "histfunc": "avg",
         "hovertemplate": "Sex=%{x}<br>avg of BMI=%{y}<extra></extra>",
         "legendgroup": "male",
         "marker": {
          "color": "#EF553B",
          "pattern": {
           "shape": ""
          }
         },
         "name": "male",
         "offsetgroup": "male",
         "orientation": "v",
         "showlegend": true,
         "type": "histogram",
         "x": [
          "male",
          "male",
          "male",
          "male",
          "male",
          "male",
          "male",
          "male",
          "male",
          "male",
          "male",
          "male",
          "male",
          "male",
          "male",
          "male",
          "male",
          "male",
          "male",
          "male",
          "male",
          "male",
          "male",
          "male",
          "male",
          "male",
          "male",
          "male",
          "male",
          "male",
          "male",
          "male",
          "male",
          "male",
          "male",
          "male",
          "male",
          "male",
          "male",
          "male",
          "male",
          "male",
          "male",
          "male",
          "male",
          "male",
          "male",
          "male",
          "male",
          "male",
          "male",
          "male",
          "male",
          "male",
          "male",
          "male",
          "male",
          "male",
          "male",
          "male",
          "male",
          "male",
          "male",
          "male",
          "male",
          "male",
          "male",
          "male",
          "male",
          "male",
          "male",
          "male",
          "male",
          "male",
          "male",
          "male",
          "male",
          "male",
          "male",
          "male",
          "male",
          "male",
          "male",
          "male",
          "male",
          "male",
          "male",
          "male",
          "male",
          "male",
          "male",
          "male",
          "male",
          "male",
          "male",
          "male",
          "male",
          "male",
          "male",
          "male",
          "male",
          "male",
          "male",
          "male",
          "male",
          "male",
          "male",
          "male",
          "male",
          "male",
          "male",
          "male",
          "male",
          "male",
          "male",
          "male",
          "male",
          "male",
          "male",
          "male",
          "male",
          "male",
          "male",
          "male",
          "male",
          "male",
          "male",
          "male",
          "male",
          "male",
          "male",
          "male",
          "male",
          "male",
          "male",
          "male",
          "male",
          "male",
          "male",
          "male",
          "male",
          "male",
          "male",
          "male",
          "male",
          "male",
          "male",
          "male",
          "male",
          "male",
          "male",
          "male",
          "male",
          "male",
          "male",
          "male",
          "male",
          "male",
          "male",
          "male",
          "male",
          "male",
          "male",
          "male",
          "male",
          "male",
          "male",
          "male",
          "male",
          "male",
          "male",
          "male",
          "male",
          "male",
          "male",
          "male",
          "male",
          "male",
          "male",
          "male",
          "male",
          "male",
          "male",
          "male",
          "male",
          "male",
          "male",
          "male",
          "male",
          "male",
          "male",
          "male",
          "male",
          "male",
          "male",
          "male",
          "male",
          "male",
          "male",
          "male",
          "male",
          "male",
          "male",
          "male",
          "male",
          "male",
          "male",
          "male",
          "male",
          "male",
          "male",
          "male",
          "male",
          "male",
          "male",
          "male",
          "male",
          "male",
          "male",
          "male",
          "male",
          "male",
          "male",
          "male",
          "male",
          "male",
          "male",
          "male",
          "male",
          "male",
          "male",
          "male",
          "male",
          "male",
          "male",
          "male",
          "male",
          "male",
          "male",
          "male",
          "male",
          "male",
          "male",
          "male",
          "male",
          "male",
          "male",
          "male",
          "male",
          "male",
          "male",
          "male",
          "male",
          "male",
          "male",
          "male",
          "male",
          "male",
          "male",
          "male",
          "male",
          "male",
          "male",
          "male",
          "male",
          "male",
          "male",
          "male",
          "male",
          "male",
          "male",
          "male",
          "male",
          "male",
          "male",
          "male",
          "male",
          "male",
          "male",
          "male",
          "male",
          "male",
          "male",
          "male",
          "male",
          "male",
          "male",
          "male",
          "male",
          "male",
          "male",
          "male",
          "male",
          "male",
          "male",
          "male",
          "male",
          "male",
          "male",
          "male",
          "male",
          "male",
          "male",
          "male",
          "male",
          "male",
          "male",
          "male",
          "male",
          "male",
          "male",
          "male",
          "male",
          "male",
          "male",
          "male",
          "male",
          "male",
          "male",
          "male",
          "male",
          "male",
          "male",
          "male",
          "male",
          "male",
          "male",
          "male",
          "male",
          "male",
          "male",
          "male",
          "male",
          "male",
          "male",
          "male",
          "male",
          "male",
          "male",
          "male",
          "male",
          "male",
          "male",
          "male",
          "male",
          "male",
          "male",
          "male",
          "male",
          "male",
          "male",
          "male",
          "male",
          "male",
          "male",
          "male",
          "male",
          "male",
          "male",
          "male",
          "male",
          "male",
          "male",
          "male",
          "male",
          "male",
          "male",
          "male",
          "male",
          "male",
          "male",
          "male",
          "male",
          "male",
          "male",
          "male",
          "male",
          "male",
          "male",
          "male"
         ],
         "xaxis": "x",
         "y": [
          27.77777778,
          35.67181926,
          24.48979592,
          23.62028791,
          23.24380165,
          23.24380165,
          23.80869017,
          21.4532872,
          30.47796622,
          21.67211013,
          20.83070319,
          23.12406059,
          21.60493827,
          29.536862,
          25.71219869,
          26.21882086,
          21.51385851,
          20.66115702,
          35.67181926,
          20.51913409,
          24.67550027,
          17.57706869,
          20.61925365,
          35.67181926,
          22.72440348,
          20.00656932,
          20.4824761,
          19.72318339,
          23.4375,
          23.52941176,
          24.74274483,
          21.43460935,
          27.77777778,
          22.12973973,
          21.2244898,
          27.33564014,
          26.2345679,
          35.67181926,
          19.59183673,
          20.4824761,
          26.2345679,
          30.24691358,
          20.41522491,
          18.25310979,
          28.73192149,
          22.85714286,
          21.26654064,
          23.62028791,
          32.69054178,
          25.18078512,
          24.21229339,
          21.43460935,
          25.18078512,
          19.72318339,
          26.44628099,
          20.23355301,
          21.51385851,
          24.67550027,
          22.85714286,
          22.83737024,
          19.20415225,
          21.60493827,
          19.13580247,
          27.77670615,
          23.51020408,
          33.33333333,
          24.67550027,
          35.67181926,
          16.70620468,
          27.33564014,
          20.66115702,
          27.54820937,
          25.82644628,
          19.59183673,
          19.84126984,
          20.90238586,
          34.28571429,
          27.42857143,
          23.67125363,
          25.18078512,
          24.22145329,
          21.9138057,
          18.25310979,
          24.81481481,
          26.55596594,
          27.16691927,
          22.83737024,
          25.10239133,
          19.72318339,
          19.13580247,
          25.82644628,
          26.21882086,
          35.67181926,
          23.12406059,
          34.28571429,
          23.26869806,
          22.03856749,
          25.390625,
          22.54595907,
          29.0687733,
          24.22145329,
          23.12406059,
          24.48565201,
          26.85185185,
          23.98687034,
          23.98687034,
          24.22145329,
          35.91836735,
          27.17063157,
          26.85185185,
          20.90419501,
          19.25261962,
          22.64737696,
          25.21735858,
          25.46938776,
          21.97735112,
          19.72103697,
          25.33500198,
          21.63331531,
          26.98961938,
          25.21735858,
          21.97735112,
          25.21735858,
          25.55932916,
          22.47120876,
          23.52941176,
          31.45643284,
          26.98961938,
          25.53544639,
          31.45643284,
          24.67550027,
          21.38099285,
          22.72440348,
          21.63331531,
          22.99168975,
          22.49134948,
          25.61728395,
          25.01352082,
          23.12406059,
          25.46938776,
          26.88172043,
          28.982007,
          21.15885417,
          23.88946281,
          25.68956193,
          26.88172043,
          22.72440348,
          23.98687034,
          22.64737696,
          25.46938776,
          22.28259211,
          22.85714286,
          30.47796622,
          20.56932966,
          21.15885417,
          24.22145329,
          23.44934084,
          20.76124567,
          25.53544639,
          25.53544639,
          17.7221172,
          23.88946281,
          30.47796622,
          22.72440348,
          25.53544639,
          23.37472608,
          25.21735858,
          24.69135802,
          21.0076678,
          19.25261962,
          23.98687034,
          22.85714286,
          20.38156971,
          23.44934084,
          20.0617284,
          25.01352082,
          22.64737696,
          29.0687733,
          26.29757785,
          22.99168975,
          30.47796622,
          22.12973973,
          20.19946976,
          22.72440348,
          25.46938776,
          28.982007,
          21.0076678,
          25.46938776,
          22.72440348,
          23.12406059,
          21.63331531,
          19.75308642,
          28.07631929,
          22.85714286,
          28.40533756,
          29.3523545,
          24.05693475,
          28.40533756,
          28.07631929,
          25.59220998,
          20.52892163,
          29.3523545,
          23.80869017,
          21.5349084,
          26.82742078,
          20.70081674,
          21.61281179,
          26.70362358,
          25.61728395,
          19.75308642,
          20.52892163,
          22.46003435,
          25.59220998,
          21.79930796,
          23.66143862,
          28.07504294,
          25.59220998,
          24.85795455,
          26.06167931,
          26.51180407,
          25.59220998,
          20.0617284,
          26.06167931,
          23.87511478,
          29.3523545,
          27.44059917,
          26.82742078,
          24.21229339,
          18.9370029,
          33.56401384,
          25.82644628,
          18.9370029,
          21.91358025,
          21.63331531,
          25.61728395,
          24.22145329,
          22.54595907,
          25.60553633,
          26.52851035,
          23.80869017,
          22.5981405,
          20.52892163,
          18.36547291,
          23.73866213,
          21.91358025,
          21.61281179,
          24.21229339,
          20.47826661,
          22.5981405,
          22.54595907,
          20.0617284,
          21.0498179,
          25.40170132,
          21.0498179,
          28.40533756,
          22.5981405,
          29.05328798,
          25.2493372,
          22.47120876,
          22.85714286,
          26.82742078,
          26.06167931,
          25.59220998,
          23.10843458,
          29.3523545,
          25.40170132,
          26.52851035,
          20.54988662,
          22.5981405,
          21.51385851,
          24.1516725,
          24.69135802,
          24.22145329,
          23.66143862,
          22.5981405,
          23.10843458,
          26.70362358,
          25.2493372,
          22.85714286,
          26.82742078,
          22.54595907,
          26.51180407,
          30.02659498,
          22.54595907,
          24.48979592,
          27.16049383,
          27.45865421,
          27.76342975,
          19.48696145,
          28.73174689,
          18.39067451,
          21.10726644,
          21.10726644,
          22.5981405,
          22.5981405,
          25.30864198,
          25.72755521,
          22.72043837,
          27.16049383,
          24.22145329,
          26.06167931,
          25.2493372,
          18.39067451,
          23.7953599,
          23.59700421,
          24.22145329,
          22.72043837,
          24.22145329,
          21.10726644,
          19.0194421,
          28.40818411,
          24.11150746,
          19.88385305,
          28.40818411,
          24.83564646,
          27.76342975,
          21.5349084,
          23.1206236,
          27.18089991,
          26.21882086,
          25.30864198,
          23.58983547,
          27.18089991,
          26.30943113,
          23.14814815,
          25.61728395,
          25.66115203,
          21.5349084,
          21.84700852,
          25.94548396,
          20.74755019,
          27.17310162,
          19.88385305,
          24.33747972,
          26.21882086,
          25.82644628,
          22.83950617,
          25.2493372,
          25.46938776,
          27.45865421,
          27.16049383,
          22.83950617,
          24.22145329,
          27.16049383,
          27.76342975,
          26.21882086,
          28.37370242,
          25.2493372,
          26.30943113,
          29.05475207,
          19.0194421,
          22.83950617,
          21.84700852,
          24.22145329,
          26.12244898,
          24.03170937,
          17.05617651,
          28.65013774,
          21.10726644,
          24.22145329,
          25.2493372,
          21.10726644,
          22.5981405,
          26.21882086,
          27.18089991,
          25.46938776,
          24.16326531,
          24.33747972,
          23.14814815,
          22.5981405,
          26.85185185,
          28.03792346,
          22.47120876,
          25.2493372,
          24.83564646,
          22.47120876,
          22.72043837,
          24.22145329,
          24.33747972,
          28.40533756
         ],
         "yaxis": "y"
        }
       ],
       "layout": {
        "barmode": "relative",
        "legend": {
         "title": {
          "text": "Sex"
         },
         "tracegroupgap": 0
        },
        "template": {
         "data": {
          "bar": [
           {
            "error_x": {
             "color": "#2a3f5f"
            },
            "error_y": {
             "color": "#2a3f5f"
            },
            "marker": {
             "line": {
              "color": "#E5ECF6",
              "width": 0.5
             },
             "pattern": {
              "fillmode": "overlay",
              "size": 10,
              "solidity": 0.2
             }
            },
            "type": "bar"
           }
          ],
          "barpolar": [
           {
            "marker": {
             "line": {
              "color": "#E5ECF6",
              "width": 0.5
             },
             "pattern": {
              "fillmode": "overlay",
              "size": 10,
              "solidity": 0.2
             }
            },
            "type": "barpolar"
           }
          ],
          "carpet": [
           {
            "aaxis": {
             "endlinecolor": "#2a3f5f",
             "gridcolor": "white",
             "linecolor": "white",
             "minorgridcolor": "white",
             "startlinecolor": "#2a3f5f"
            },
            "baxis": {
             "endlinecolor": "#2a3f5f",
             "gridcolor": "white",
             "linecolor": "white",
             "minorgridcolor": "white",
             "startlinecolor": "#2a3f5f"
            },
            "type": "carpet"
           }
          ],
          "choropleth": [
           {
            "colorbar": {
             "outlinewidth": 0,
             "ticks": ""
            },
            "type": "choropleth"
           }
          ],
          "contour": [
           {
            "colorbar": {
             "outlinewidth": 0,
             "ticks": ""
            },
            "colorscale": [
             [
              0,
              "#0d0887"
             ],
             [
              0.1111111111111111,
              "#46039f"
             ],
             [
              0.2222222222222222,
              "#7201a8"
             ],
             [
              0.3333333333333333,
              "#9c179e"
             ],
             [
              0.4444444444444444,
              "#bd3786"
             ],
             [
              0.5555555555555556,
              "#d8576b"
             ],
             [
              0.6666666666666666,
              "#ed7953"
             ],
             [
              0.7777777777777778,
              "#fb9f3a"
             ],
             [
              0.8888888888888888,
              "#fdca26"
             ],
             [
              1,
              "#f0f921"
             ]
            ],
            "type": "contour"
           }
          ],
          "contourcarpet": [
           {
            "colorbar": {
             "outlinewidth": 0,
             "ticks": ""
            },
            "type": "contourcarpet"
           }
          ],
          "heatmap": [
           {
            "colorbar": {
             "outlinewidth": 0,
             "ticks": ""
            },
            "colorscale": [
             [
              0,
              "#0d0887"
             ],
             [
              0.1111111111111111,
              "#46039f"
             ],
             [
              0.2222222222222222,
              "#7201a8"
             ],
             [
              0.3333333333333333,
              "#9c179e"
             ],
             [
              0.4444444444444444,
              "#bd3786"
             ],
             [
              0.5555555555555556,
              "#d8576b"
             ],
             [
              0.6666666666666666,
              "#ed7953"
             ],
             [
              0.7777777777777778,
              "#fb9f3a"
             ],
             [
              0.8888888888888888,
              "#fdca26"
             ],
             [
              1,
              "#f0f921"
             ]
            ],
            "type": "heatmap"
           }
          ],
          "heatmapgl": [
           {
            "colorbar": {
             "outlinewidth": 0,
             "ticks": ""
            },
            "colorscale": [
             [
              0,
              "#0d0887"
             ],
             [
              0.1111111111111111,
              "#46039f"
             ],
             [
              0.2222222222222222,
              "#7201a8"
             ],
             [
              0.3333333333333333,
              "#9c179e"
             ],
             [
              0.4444444444444444,
              "#bd3786"
             ],
             [
              0.5555555555555556,
              "#d8576b"
             ],
             [
              0.6666666666666666,
              "#ed7953"
             ],
             [
              0.7777777777777778,
              "#fb9f3a"
             ],
             [
              0.8888888888888888,
              "#fdca26"
             ],
             [
              1,
              "#f0f921"
             ]
            ],
            "type": "heatmapgl"
           }
          ],
          "histogram": [
           {
            "marker": {
             "pattern": {
              "fillmode": "overlay",
              "size": 10,
              "solidity": 0.2
             }
            },
            "type": "histogram"
           }
          ],
          "histogram2d": [
           {
            "colorbar": {
             "outlinewidth": 0,
             "ticks": ""
            },
            "colorscale": [
             [
              0,
              "#0d0887"
             ],
             [
              0.1111111111111111,
              "#46039f"
             ],
             [
              0.2222222222222222,
              "#7201a8"
             ],
             [
              0.3333333333333333,
              "#9c179e"
             ],
             [
              0.4444444444444444,
              "#bd3786"
             ],
             [
              0.5555555555555556,
              "#d8576b"
             ],
             [
              0.6666666666666666,
              "#ed7953"
             ],
             [
              0.7777777777777778,
              "#fb9f3a"
             ],
             [
              0.8888888888888888,
              "#fdca26"
             ],
             [
              1,
              "#f0f921"
             ]
            ],
            "type": "histogram2d"
           }
          ],
          "histogram2dcontour": [
           {
            "colorbar": {
             "outlinewidth": 0,
             "ticks": ""
            },
            "colorscale": [
             [
              0,
              "#0d0887"
             ],
             [
              0.1111111111111111,
              "#46039f"
             ],
             [
              0.2222222222222222,
              "#7201a8"
             ],
             [
              0.3333333333333333,
              "#9c179e"
             ],
             [
              0.4444444444444444,
              "#bd3786"
             ],
             [
              0.5555555555555556,
              "#d8576b"
             ],
             [
              0.6666666666666666,
              "#ed7953"
             ],
             [
              0.7777777777777778,
              "#fb9f3a"
             ],
             [
              0.8888888888888888,
              "#fdca26"
             ],
             [
              1,
              "#f0f921"
             ]
            ],
            "type": "histogram2dcontour"
           }
          ],
          "mesh3d": [
           {
            "colorbar": {
             "outlinewidth": 0,
             "ticks": ""
            },
            "type": "mesh3d"
           }
          ],
          "parcoords": [
           {
            "line": {
             "colorbar": {
              "outlinewidth": 0,
              "ticks": ""
             }
            },
            "type": "parcoords"
           }
          ],
          "pie": [
           {
            "automargin": true,
            "type": "pie"
           }
          ],
          "scatter": [
           {
            "marker": {
             "colorbar": {
              "outlinewidth": 0,
              "ticks": ""
             }
            },
            "type": "scatter"
           }
          ],
          "scatter3d": [
           {
            "line": {
             "colorbar": {
              "outlinewidth": 0,
              "ticks": ""
             }
            },
            "marker": {
             "colorbar": {
              "outlinewidth": 0,
              "ticks": ""
             }
            },
            "type": "scatter3d"
           }
          ],
          "scattercarpet": [
           {
            "marker": {
             "colorbar": {
              "outlinewidth": 0,
              "ticks": ""
             }
            },
            "type": "scattercarpet"
           }
          ],
          "scattergeo": [
           {
            "marker": {
             "colorbar": {
              "outlinewidth": 0,
              "ticks": ""
             }
            },
            "type": "scattergeo"
           }
          ],
          "scattergl": [
           {
            "marker": {
             "colorbar": {
              "outlinewidth": 0,
              "ticks": ""
             }
            },
            "type": "scattergl"
           }
          ],
          "scattermapbox": [
           {
            "marker": {
             "colorbar": {
              "outlinewidth": 0,
              "ticks": ""
             }
            },
            "type": "scattermapbox"
           }
          ],
          "scatterpolar": [
           {
            "marker": {
             "colorbar": {
              "outlinewidth": 0,
              "ticks": ""
             }
            },
            "type": "scatterpolar"
           }
          ],
          "scatterpolargl": [
           {
            "marker": {
             "colorbar": {
              "outlinewidth": 0,
              "ticks": ""
             }
            },
            "type": "scatterpolargl"
           }
          ],
          "scatterternary": [
           {
            "marker": {
             "colorbar": {
              "outlinewidth": 0,
              "ticks": ""
             }
            },
            "type": "scatterternary"
           }
          ],
          "surface": [
           {
            "colorbar": {
             "outlinewidth": 0,
             "ticks": ""
            },
            "colorscale": [
             [
              0,
              "#0d0887"
             ],
             [
              0.1111111111111111,
              "#46039f"
             ],
             [
              0.2222222222222222,
              "#7201a8"
             ],
             [
              0.3333333333333333,
              "#9c179e"
             ],
             [
              0.4444444444444444,
              "#bd3786"
             ],
             [
              0.5555555555555556,
              "#d8576b"
             ],
             [
              0.6666666666666666,
              "#ed7953"
             ],
             [
              0.7777777777777778,
              "#fb9f3a"
             ],
             [
              0.8888888888888888,
              "#fdca26"
             ],
             [
              1,
              "#f0f921"
             ]
            ],
            "type": "surface"
           }
          ],
          "table": [
           {
            "cells": {
             "fill": {
              "color": "#EBF0F8"
             },
             "line": {
              "color": "white"
             }
            },
            "header": {
             "fill": {
              "color": "#C8D4E3"
             },
             "line": {
              "color": "white"
             }
            },
            "type": "table"
           }
          ]
         },
         "layout": {
          "annotationdefaults": {
           "arrowcolor": "#2a3f5f",
           "arrowhead": 0,
           "arrowwidth": 1
          },
          "autotypenumbers": "strict",
          "coloraxis": {
           "colorbar": {
            "outlinewidth": 0,
            "ticks": ""
           }
          },
          "colorscale": {
           "diverging": [
            [
             0,
             "#8e0152"
            ],
            [
             0.1,
             "#c51b7d"
            ],
            [
             0.2,
             "#de77ae"
            ],
            [
             0.3,
             "#f1b6da"
            ],
            [
             0.4,
             "#fde0ef"
            ],
            [
             0.5,
             "#f7f7f7"
            ],
            [
             0.6,
             "#e6f5d0"
            ],
            [
             0.7,
             "#b8e186"
            ],
            [
             0.8,
             "#7fbc41"
            ],
            [
             0.9,
             "#4d9221"
            ],
            [
             1,
             "#276419"
            ]
           ],
           "sequential": [
            [
             0,
             "#0d0887"
            ],
            [
             0.1111111111111111,
             "#46039f"
            ],
            [
             0.2222222222222222,
             "#7201a8"
            ],
            [
             0.3333333333333333,
             "#9c179e"
            ],
            [
             0.4444444444444444,
             "#bd3786"
            ],
            [
             0.5555555555555556,
             "#d8576b"
            ],
            [
             0.6666666666666666,
             "#ed7953"
            ],
            [
             0.7777777777777778,
             "#fb9f3a"
            ],
            [
             0.8888888888888888,
             "#fdca26"
            ],
            [
             1,
             "#f0f921"
            ]
           ],
           "sequentialminus": [
            [
             0,
             "#0d0887"
            ],
            [
             0.1111111111111111,
             "#46039f"
            ],
            [
             0.2222222222222222,
             "#7201a8"
            ],
            [
             0.3333333333333333,
             "#9c179e"
            ],
            [
             0.4444444444444444,
             "#bd3786"
            ],
            [
             0.5555555555555556,
             "#d8576b"
            ],
            [
             0.6666666666666666,
             "#ed7953"
            ],
            [
             0.7777777777777778,
             "#fb9f3a"
            ],
            [
             0.8888888888888888,
             "#fdca26"
            ],
            [
             1,
             "#f0f921"
            ]
           ]
          },
          "colorway": [
           "#636efa",
           "#EF553B",
           "#00cc96",
           "#ab63fa",
           "#FFA15A",
           "#19d3f3",
           "#FF6692",
           "#B6E880",
           "#FF97FF",
           "#FECB52"
          ],
          "font": {
           "color": "#2a3f5f"
          },
          "geo": {
           "bgcolor": "white",
           "lakecolor": "white",
           "landcolor": "#E5ECF6",
           "showlakes": true,
           "showland": true,
           "subunitcolor": "white"
          },
          "hoverlabel": {
           "align": "left"
          },
          "hovermode": "closest",
          "mapbox": {
           "style": "light"
          },
          "paper_bgcolor": "white",
          "plot_bgcolor": "#E5ECF6",
          "polar": {
           "angularaxis": {
            "gridcolor": "white",
            "linecolor": "white",
            "ticks": ""
           },
           "bgcolor": "#E5ECF6",
           "radialaxis": {
            "gridcolor": "white",
            "linecolor": "white",
            "ticks": ""
           }
          },
          "scene": {
           "xaxis": {
            "backgroundcolor": "#E5ECF6",
            "gridcolor": "white",
            "gridwidth": 2,
            "linecolor": "white",
            "showbackground": true,
            "ticks": "",
            "zerolinecolor": "white"
           },
           "yaxis": {
            "backgroundcolor": "#E5ECF6",
            "gridcolor": "white",
            "gridwidth": 2,
            "linecolor": "white",
            "showbackground": true,
            "ticks": "",
            "zerolinecolor": "white"
           },
           "zaxis": {
            "backgroundcolor": "#E5ECF6",
            "gridcolor": "white",
            "gridwidth": 2,
            "linecolor": "white",
            "showbackground": true,
            "ticks": "",
            "zerolinecolor": "white"
           }
          },
          "shapedefaults": {
           "line": {
            "color": "#2a3f5f"
           }
          },
          "ternary": {
           "aaxis": {
            "gridcolor": "white",
            "linecolor": "white",
            "ticks": ""
           },
           "baxis": {
            "gridcolor": "white",
            "linecolor": "white",
            "ticks": ""
           },
           "bgcolor": "#E5ECF6",
           "caxis": {
            "gridcolor": "white",
            "linecolor": "white",
            "ticks": ""
           }
          },
          "title": {
           "x": 0.05
          },
          "xaxis": {
           "automargin": true,
           "gridcolor": "white",
           "linecolor": "white",
           "ticks": "",
           "title": {
            "standoff": 15
           },
           "zerolinecolor": "white",
           "zerolinewidth": 2
          },
          "yaxis": {
           "automargin": true,
           "gridcolor": "white",
           "linecolor": "white",
           "ticks": "",
           "title": {
            "standoff": 15
           },
           "zerolinecolor": "white",
           "zerolinewidth": 2
          }
         }
        },
        "title": {
         "text": "Average BMI by Gender"
        },
        "xaxis": {
         "anchor": "y",
         "categoryarray": [
          "female",
          "male"
         ],
         "categoryorder": "array",
         "domain": [
          0,
          1
         ],
         "title": {
          "text": "Sex"
         }
        },
        "yaxis": {
         "anchor": "x",
         "domain": [
          0,
          1
         ],
         "title": {
          "text": "avg of BMI"
         }
        }
       }
      }
     },
     "metadata": {},
     "output_type": "display_data"
    }
   ],
   "source": [
    "#Average bmi by gender\n",
    "fig = px.histogram(df_strat, x='gender', y='bmi', color='gender', histfunc='avg', labels={'gender':'Sex', 'bmi':'BMI'}, title=\"Average BMI by Gender\")\n",
    "fig.show()"
   ]
  },
  {
   "cell_type": "code",
   "execution_count": 36,
   "id": "7c31ff39",
   "metadata": {},
   "outputs": [
    {
     "data": {
      "image/png": "[encoded data removed]",
      "text/plain": [
       "<Figure size 720x576 with 2 Axes>"
      ]
     },
     "metadata": {},
     "output_type": "display_data"
    }
   ],
   "source": [
    "#Checking for correlation between numeric variables\n",
    "sns.heatmap(df_strat.corr(), annot=True)\n",
    "plt.title(\"Correlation Between Numeric Variables\")\n",
    "plt.show()"
   ]
  },
  {
   "cell_type": "code",
   "execution_count": 37,
   "id": "ad5a17d9",
   "metadata": {},
   "outputs": [
    {
     "data": {
      "image/png": "[encoded data removed]",
      "text/plain": [
       "<Figure size 720x576 with 1 Axes>"
      ]
     },
     "metadata": {},
     "output_type": "display_data"
    }
   ],
   "source": [
    "sns.countplot(x='school_year', data=df_strat)\n",
    "plt.title(\"Proportions of Students by School Year\")\n",
    "plt.ylabel('')\n",
    "plt.xlabel(\"School Year\")\n",
    "plt.show()"
   ]
  },
  {
   "cell_type": "code",
   "execution_count": 38,
   "id": "bdadaf11",
   "metadata": {},
   "outputs": [
    {
     "data": {
      "image/png": "[encoded data removed]",
      "text/plain": [
       "<Figure size 720x576 with 1 Axes>"
      ]
     },
     "metadata": {},
     "output_type": "display_data"
    }
   ],
   "source": [
    "ax = sns.barplot(x='school_year', y='bmi', data=df_strat)\n",
    "ax.set(xlabel=\"School Year\", ylabel=\"BMI\", title=\"Average BMI per School Year\")\n",
    "plt.show()"
   ]
  },
  {
   "cell_type": "code",
   "execution_count": 39,
   "id": "ce295098",
   "metadata": {},
   "outputs": [
    {
     "data": {
      "image/png": "[encoded data removed]",
      "text/plain": [
       "<Figure size 720x576 with 1 Axes>"
      ]
     },
     "metadata": {},
     "output_type": "display_data"
    }
   ],
   "source": [
    "sns.countplot(data=df_strat, y='who_bmi')\n",
    "plt.xlabel('')\n",
    "plt.ylabel('')\n",
    "plt.title('Number of Students per Weight Classification')\n",
    "plt.show()"
   ]
  },
  {
   "cell_type": "code",
   "execution_count": 40,
   "id": "731364f2",
   "metadata": {},
   "outputs": [
    {
     "data": {
      "text/plain": [
       "Normal         0.636842\n",
       "Overweight     0.264474\n",
       "Underweight    0.051316\n",
       "Obese          0.047368\n",
       "Name: who_bmi, dtype: float64"
      ]
     },
     "execution_count": 40,
     "metadata": {},
     "output_type": "execute_result"
    }
   ],
   "source": [
    "#Proportions of WHO weight classes \n",
    "df_strat['who_bmi'].value_counts(sort=True, normalize=True)"
   ]
  },
  {
   "cell_type": "code",
   "execution_count": 41,
   "id": "ba284df7",
   "metadata": {},
   "outputs": [
    {
     "data": {
      "image/png": "[encoded data removed]",
      "text/plain": [
       "<Figure size 720x576 with 1 Axes>"
      ]
     },
     "metadata": {},
     "output_type": "display_data"
    }
   ],
   "source": [
    "sns.countplot(data=df_strat, y='depression_severity')\n",
    "plt.xlabel(\"\")\n",
    "plt.ylabel('')\n",
    "plt.title(\"Proportions of Students by Depression Severity\")\n",
    "plt.show()"
   ]
  },
  {
   "cell_type": "code",
   "execution_count": 42,
   "id": "49109d37",
   "metadata": {},
   "outputs": [
    {
     "data": {
      "text/plain": [
       "Mild                 0.438158\n",
       "None-minimal         0.319737\n",
       "Moderate             0.169737\n",
       "Moderately severe    0.051316\n",
       "Severe               0.021053\n",
       "Name: depression_severity, dtype: float64"
      ]
     },
     "execution_count": 42,
     "metadata": {},
     "output_type": "execute_result"
    }
   ],
   "source": [
    "#Proportions of Students by Depression Severity\n",
    "df_strat['depression_severity'].value_counts(sort=True, normalize=True)"
   ]
  },
  {
   "cell_type": "code",
   "execution_count": 43,
   "id": "1bbdefaa",
   "metadata": {},
   "outputs": [
    {
     "data": {
      "image/png": "[encoded data removed]",
      "text/plain": [
       "<Figure size 720x576 with 1 Axes>"
      ]
     },
     "metadata": {},
     "output_type": "display_data"
    }
   ],
   "source": [
    "sns.countplot(data=df_strat, y='who_bmi', hue='gender', hue_order=['male', 'female'])\n",
    "plt.legend(['Male', 'Female'])\n",
    "plt.xlabel('')\n",
    "plt.ylabel('')\n",
    "plt.title('Weight Classification by Gender')\n",
    "plt.show()"
   ]
  },
  {
   "cell_type": "code",
   "execution_count": 44,
   "id": "8a707875",
   "metadata": {},
   "outputs": [
    {
     "data": {
      "text/plain": [
       "gender             \n",
       "female  Normal         0.710526\n",
       "        Overweight     0.168421\n",
       "        Underweight    0.078947\n",
       "        Obese          0.042105\n",
       "male    Normal         0.563158\n",
       "        Overweight     0.360526\n",
       "        Obese          0.052632\n",
       "        Underweight    0.023684\n",
       "Name: who_bmi, dtype: float64"
      ]
     },
     "execution_count": 44,
     "metadata": {},
     "output_type": "execute_result"
    }
   ],
   "source": [
    "#Proportions of WHO weight classes by Gender\n",
    "df_strat.groupby('gender')['who_bmi'].value_counts(sort=True, normalize=True)"
   ]
  },
  {
   "cell_type": "code",
   "execution_count": 45,
   "id": "9a0f0058",
   "metadata": {},
   "outputs": [
    {
     "data": {
      "image/png": "[encoded data removed]",
      "text/plain": [
       "<Figure size 720x576 with 1 Axes>"
      ]
     },
     "metadata": {},
     "output_type": "display_data"
    }
   ],
   "source": [
    "sns.countplot(data=df_strat, y='who_bmi', hue='school_year')\n",
    "plt.xlabel('')\n",
    "plt.ylabel('')\n",
    "plt.title('Weight Classification by School Year')\n",
    "plt.show()"
   ]
  },
  {
   "cell_type": "code",
   "execution_count": 46,
   "id": "6c9b9320",
   "metadata": {},
   "outputs": [
    {
     "data": {
      "image/png": "[encoded data removed]",
      "text/plain": [
       "<Figure size 720x576 with 1 Axes>"
      ]
     },
     "metadata": {},
     "output_type": "display_data"
    }
   ],
   "source": [
    "sns.countplot(data=df_strat, y='depression_severity', hue='gender', hue_order=['male', 'female'])\n",
    "plt.legend(['Male', 'Female'])\n",
    "plt.title(\"Proportions of Depression Severity by Gender\")\n",
    "plt.ylabel('')\n",
    "plt.show()"
   ]
  },
  {
   "cell_type": "code",
   "execution_count": 47,
   "id": "7f27bbd5",
   "metadata": {},
   "outputs": [
    {
     "data": {
      "text/plain": [
       "gender                   \n",
       "female  Mild                 0.521053\n",
       "        None-minimal         0.210526\n",
       "        Moderate             0.192105\n",
       "        Moderately severe    0.063158\n",
       "        Severe               0.013158\n",
       "male    None-minimal         0.428947\n",
       "        Mild                 0.355263\n",
       "        Moderate             0.147368\n",
       "        Moderately severe    0.039474\n",
       "        Severe               0.028947\n",
       "Name: depression_severity, dtype: float64"
      ]
     },
     "execution_count": 47,
     "metadata": {},
     "output_type": "execute_result"
    }
   ],
   "source": [
    "#Proportions of Depression Severity by Gender\n",
    "df_strat.groupby('gender')['depression_severity'].value_counts(sort=True, normalize=True)"
   ]
  },
  {
   "cell_type": "code",
   "execution_count": 48,
   "id": "363e7822",
   "metadata": {},
   "outputs": [
    {
     "data": {
      "image/png": "[encoded data removed]",
      "text/plain": [
       "<Figure size 720x576 with 1 Axes>"
      ]
     },
     "metadata": {},
     "output_type": "display_data"
    }
   ],
   "source": [
    "sns.countplot(data=df_strat, y='anxiety_severity', hue='gender', hue_order=['male', 'female'])\n",
    "plt.legend(['Male', 'Female'])\n",
    "plt.xlabel(\"\")\n",
    "plt.ylabel(\"\")\n",
    "plt.title(\"Count of Anxiety Severity by Gender\")\n",
    "plt.show()"
   ]
  },
  {
   "cell_type": "code",
   "execution_count": 49,
   "id": "07a75b33",
   "metadata": {},
   "outputs": [
    {
     "data": {
      "text/plain": [
       "gender              \n",
       "female  Mild            0.421053\n",
       "        None-minimal    0.278947\n",
       "        Moderate        0.192105\n",
       "        Severe          0.107895\n",
       "male    None-minimal    0.468421\n",
       "        Mild            0.365789\n",
       "        Moderate        0.115789\n",
       "        Severe          0.050000\n",
       "Name: anxiety_severity, dtype: float64"
      ]
     },
     "execution_count": 49,
     "metadata": {},
     "output_type": "execute_result"
    }
   ],
   "source": [
    "#Proportions of Anxiety Severity by Gender\n",
    "df_strat.groupby('gender')['anxiety_severity'].value_counts(sort=True, normalize=True)"
   ]
  },
  {
   "cell_type": "code",
   "execution_count": 50,
   "id": "52b56b7b",
   "metadata": {},
   "outputs": [
    {
     "data": {
      "image/png": "[encoded data removed]",
      "text/plain": [
       "<Figure size 720x576 with 1 Axes>"
      ]
     },
     "metadata": {},
     "output_type": "display_data"
    }
   ],
   "source": [
    "sns.countplot(data=df_strat, x='depressiveness', hue='gender', hue_order=['male', 'female'], order=[True, False])\n",
    "plt.ylabel('')\n",
    "plt.legend(['Male', 'Female'])\n",
    "plt.title(\"Proportions of Depressed Students by Gender\")\n",
    "plt.show()"
   ]
  },
  {
   "cell_type": "code",
   "execution_count": 51,
   "id": "3935bad3",
   "metadata": {},
   "outputs": [
    {
     "data": {
      "image/png": "[encoded data removed]",
      "text/plain": [
       "<Figure size 720x576 with 1 Axes>"
      ]
     },
     "metadata": {},
     "output_type": "display_data"
    }
   ],
   "source": [
    "sns.countplot(data=df_strat, x='anxiety_diagnosis', hue='gender', hue_order=['male', 'female'], order=[True, False])\n",
    "plt.ylabel('')\n",
    "plt.legend(['Male', 'Female'])\n",
    "plt.title(\"Proportions of Anxiety Diagnosis by Gender\")\n",
    "plt.show()"
   ]
  },
  {
   "cell_type": "code",
   "execution_count": 52,
   "id": "f6cc0f79",
   "metadata": {},
   "outputs": [
    {
     "data": {
      "image/png": "[encoded data removed]",
      "text/plain": [
       "<Figure size 720x576 with 1 Axes>"
      ]
     },
     "metadata": {},
     "output_type": "display_data"
    }
   ],
   "source": [
    "sns.countplot(data=df_strat, x='suicidal', hue='gender', hue_order=['male', 'female'], order=[True, False])\n",
    "plt.ylabel('')\n",
    "plt.legend(['Male', 'Female'])\n",
    "plt.title(\"Proportions of Suicidal students by Gender\")\n",
    "plt.show()"
   ]
  },
  {
   "cell_type": "code",
   "execution_count": 53,
   "id": "f1116b8d",
   "metadata": {},
   "outputs": [
    {
     "data": {
      "image/png": "[encoded data removed]",
      "text/plain": [
       "<Figure size 720x576 with 1 Axes>"
      ]
     },
     "metadata": {},
     "output_type": "display_data"
    }
   ],
   "source": [
    "sns.countplot(data=df_strat, x='school_year', hue='suicidal')\n",
    "plt.ylabel('')\n",
    "plt.title(\"Proportions of Suicidal students by School Year\")\n",
    "plt.show()"
   ]
  },
  {
   "cell_type": "code",
   "execution_count": 54,
   "id": "aa367985",
   "metadata": {},
   "outputs": [
    {
     "data": {
      "image/png": "[encoded data removed]",
      "text/plain": [
       "<Figure size 720x576 with 1 Axes>"
      ]
     },
     "metadata": {},
     "output_type": "display_data"
    }
   ],
   "source": [
    "sns.countplot(data=df_strat, x='depressiveness', hue='school_year')\n",
    "plt.title(\"Proportion of Depressed Students by School Year\")\n",
    "plt.show()"
   ]
  },
  {
   "cell_type": "code",
   "execution_count": 55,
   "id": "100cc52d",
   "metadata": {},
   "outputs": [
    {
     "data": {
      "image/png": "[encoded data removed]",
      "text/plain": [
       "<Figure size 720x576 with 2 Axes>"
      ]
     },
     "metadata": {},
     "output_type": "display_data"
    }
   ],
   "source": [
    "#Percentage of students undergoing treatment and are suicidal\n",
    "sns.heatmap(pd.crosstab(index=df_strat.suicidal, columns=df_strat.depression_treatment, normalize=True), annot=True)\n",
    "plt.title('Percentages of students by depressiveness and suicidal thoughts')\n",
    "plt.show()"
   ]
  },
  {
   "cell_type": "code",
   "execution_count": 56,
   "id": "ba1e78ab",
   "metadata": {},
   "outputs": [
    {
     "data": {
      "text/plain": [
       "depressiveness  suicidal\n",
       "False           False       1.000000\n",
       "True            False       0.605769\n",
       "                True        0.394231\n",
       "Name: suicidal, dtype: float64"
      ]
     },
     "execution_count": 56,
     "metadata": {},
     "output_type": "execute_result"
    }
   ],
   "source": [
    "#Proportions of Depressed Students with Suicidal thoughts\n",
    "df_strat.groupby('depressiveness')['suicidal'].value_counts(sort=True, normalize=True)"
   ]
  },
  {
   "cell_type": "code",
   "execution_count": 57,
   "id": "3c907717",
   "metadata": {},
   "outputs": [
    {
     "data": {
      "image/png": "[encoded data removed]",
      "text/plain": [
       "<Figure size 720x576 with 2 Axes>"
      ]
     },
     "metadata": {},
     "output_type": "display_data"
    }
   ],
   "source": [
    "sns.heatmap(pd.crosstab(index=df_strat.depressiveness, columns=df_strat.depression_treatment, normalize=True), annot=True)\n",
    "plt.title('Percentages of students by depressiveness and depression_treatment')\n",
    "plt.show()"
   ]
  },
  {
   "cell_type": "code",
   "execution_count": 58,
   "id": "6628711a",
   "metadata": {},
   "outputs": [
    {
     "data": {
      "text/plain": [
       "depressiveness  depression_treatment\n",
       "False           False                   0.958333\n",
       "                True                    0.041667\n",
       "True            False                   0.903846\n",
       "                True                    0.096154\n",
       "Name: depression_treatment, dtype: float64"
      ]
     },
     "execution_count": 58,
     "metadata": {},
     "output_type": "execute_result"
    }
   ],
   "source": [
    "#Proportions of Depressed Students receiving treatment\n",
    "df_strat.groupby('depressiveness')['depression_treatment'].value_counts(sort=True, normalize=True)"
   ]
  },
  {
   "cell_type": "code",
   "execution_count": 59,
   "id": "2bbca9b0",
   "metadata": {},
   "outputs": [
    {
     "data": {
      "image/png": "[encoded data removed]",
      "text/plain": [
       "<Figure size 720x576 with 1 Axes>"
      ]
     },
     "metadata": {},
     "output_type": "display_data"
    }
   ],
   "source": [
    "sns.barplot(data=df_strat, x='depressiveness', y='bmi')\n",
    "plt.show()"
   ]
  },
  {
   "cell_type": "code",
   "execution_count": 60,
   "id": "c8a3f0c9",
   "metadata": {},
   "outputs": [
    {
     "data": {
      "image/png": "[encoded data removed]",
      "text/plain": [
       "<Figure size 720x576 with 2 Axes>"
      ]
     },
     "metadata": {},
     "output_type": "display_data"
    }
   ],
   "source": [
    "sns.heatmap(pd.crosstab(index=df_strat.anxiety_treatment, columns=df_strat.anxiety_diagnosis, normalize=True), annot=True)\n",
    "plt.title('Percentages of students by GAD and anxiety_treatment')\n",
    "plt.show()"
   ]
  },
  {
   "cell_type": "code",
   "execution_count": 61,
   "id": "18c8f1b4",
   "metadata": {},
   "outputs": [
    {
     "data": {
      "image/png": "[encoded data removed]",
      "text/plain": [
       "<Figure size 720x576 with 2 Axes>"
      ]
     },
     "metadata": {},
     "output_type": "display_data"
    }
   ],
   "source": [
    "sns.heatmap(pd.crosstab(index=df_strat.anxiousness, columns=df_strat.depressiveness, normalize=True), annot=True)\n",
    "plt.title('Percentages of students by depressiveness and anxiety')\n",
    "plt.show()"
   ]
  },
  {
   "cell_type": "code",
   "execution_count": 62,
   "id": "66491cb7",
   "metadata": {},
   "outputs": [
    {
     "data": {
      "image/png": "[encoded data removed]",
      "text/plain": [
       "<Figure size 720x576 with 2 Axes>"
      ]
     },
     "metadata": {},
     "output_type": "display_data"
    }
   ],
   "source": [
    "sns.heatmap(pd.crosstab(index=df_strat.who_bmi, columns=df_strat.depressiveness, normalize=True), annot=True)\n",
    "plt.title('Percentages of students by depressiveness and weight class')\n",
    "plt.show()"
   ]
  },
  {
   "cell_type": "code",
   "execution_count": 63,
   "id": "4fc0f0b2",
   "metadata": {},
   "outputs": [
    {
     "data": {
      "text/plain": [
       "who_bmi      depressiveness\n",
       "Underweight  False             0.846154\n",
       "             True              0.153846\n",
       "Normal       False             0.747934\n",
       "             True              0.252066\n",
       "Overweight   False             0.716418\n",
       "             True              0.283582\n",
       "Obese        True              0.638889\n",
       "             False             0.361111\n",
       "Name: depressiveness, dtype: float64"
      ]
     },
     "execution_count": 63,
     "metadata": {},
     "output_type": "execute_result"
    }
   ],
   "source": [
    "#Proportion of Depressed Students by WHO weight classes\n",
    "df_strat.groupby('who_bmi')['depressiveness'].value_counts(sort=True, normalize=True)"
   ]
  },
  {
   "cell_type": "markdown",
   "id": "7df15d7f",
   "metadata": {},
   "source": [
    "### HYPOTHESES FROM EDA\n",
    "1. The average BMI of a male student is higher than a female student\n",
    "2. About 64% and 26% of University students are normal and overweight respectively\n",
    "3. Male students are two times more likely to be overweight than female students\n",
    "4. Male students are about two times more likely to be severely depressed\n",
    "5. Female students are two times more likely to experience severe anxiety than males\n",
    "6. Female students are more likely to be depressed than male students\n",
    "7. 25% of depressed students receiving treatment are suicidal\n",
    "8. Students who are depressed have a higher BMI than those who are not\n",
    "9. Obese Students are 2.5 times more likely to be depressed than normal students\n",
    "10. Approximately 90% of depressed students are not receiving treatment\n",
    "11. Approximately 2 out of 5 students have mild depression"
   ]
  },
  {
   "cell_type": "markdown",
   "id": "238a7d3e",
   "metadata": {},
   "source": [
    "# DATA PREPROCESSING FOR MODELING"
   ]
  },
  {
   "cell_type": "markdown",
   "id": "cf72aecf",
   "metadata": {},
   "source": [
    "This phase of the Data Science workflow is performed under the following steps:\n",
    "1. Feature and Label encoding\n",
    "2. Feature Extraction using PCA\n",
    "3. Feature Scaling (Standardization)\n",
    "4. Splitting data into training and test data"
   ]
  },
  {
   "cell_type": "code",
   "execution_count": 64,
   "id": "b56cb7cf",
   "metadata": {},
   "outputs": [],
   "source": [
    "np.random.seed(100) #Setting random seed for code reproducibility"
   ]
  },
  {
   "cell_type": "code",
   "execution_count": 65,
   "id": "53502897",
   "metadata": {},
   "outputs": [
    {
     "data": {
      "text/html": [
       "<div>\n",
       "<style scoped>\n",
       "    .dataframe tbody tr th:only-of-type {\n",
       "        vertical-align: middle;\n",
       "    }\n",
       "\n",
       "    .dataframe tbody tr th {\n",
       "        vertical-align: top;\n",
       "    }\n",
       "\n",
       "    .dataframe thead th {\n",
       "        text-align: right;\n",
       "    }\n",
       "</style>\n",
       "<table border=\"1\" class=\"dataframe\">\n",
       "  <thead>\n",
       "    <tr style=\"text-align: right;\">\n",
       "      <th></th>\n",
       "      <th>school_year</th>\n",
       "      <th>age</th>\n",
       "      <th>gender</th>\n",
       "      <th>bmi</th>\n",
       "      <th>who_bmi</th>\n",
       "      <th>phq_score</th>\n",
       "      <th>depression_severity</th>\n",
       "      <th>depressiveness</th>\n",
       "      <th>suicidal</th>\n",
       "      <th>depression_diagnosis</th>\n",
       "      <th>depression_treatment</th>\n",
       "      <th>gad_score</th>\n",
       "      <th>anxiety_severity</th>\n",
       "      <th>anxiousness</th>\n",
       "      <th>anxiety_diagnosis</th>\n",
       "      <th>anxiety_treatment</th>\n",
       "      <th>epworth_score</th>\n",
       "      <th>sleepiness</th>\n",
       "    </tr>\n",
       "  </thead>\n",
       "  <tbody>\n",
       "    <tr>\n",
       "      <th>0</th>\n",
       "      <td>1</td>\n",
       "      <td>19</td>\n",
       "      <td>male</td>\n",
       "      <td>33.333333</td>\n",
       "      <td>Obese</td>\n",
       "      <td>9</td>\n",
       "      <td>Mild</td>\n",
       "      <td>False</td>\n",
       "      <td>False</td>\n",
       "      <td>False</td>\n",
       "      <td>False</td>\n",
       "      <td>11</td>\n",
       "      <td>Moderate</td>\n",
       "      <td>True</td>\n",
       "      <td>False</td>\n",
       "      <td>False</td>\n",
       "      <td>7.0</td>\n",
       "      <td>False</td>\n",
       "    </tr>\n",
       "    <tr>\n",
       "      <th>1</th>\n",
       "      <td>1</td>\n",
       "      <td>18</td>\n",
       "      <td>male</td>\n",
       "      <td>19.841270</td>\n",
       "      <td>Normal</td>\n",
       "      <td>8</td>\n",
       "      <td>Mild</td>\n",
       "      <td>False</td>\n",
       "      <td>False</td>\n",
       "      <td>False</td>\n",
       "      <td>False</td>\n",
       "      <td>5</td>\n",
       "      <td>Mild</td>\n",
       "      <td>False</td>\n",
       "      <td>False</td>\n",
       "      <td>False</td>\n",
       "      <td>14.0</td>\n",
       "      <td>True</td>\n",
       "    </tr>\n",
       "    <tr>\n",
       "      <th>2</th>\n",
       "      <td>1</td>\n",
       "      <td>19</td>\n",
       "      <td>male</td>\n",
       "      <td>25.102391</td>\n",
       "      <td>Overweight</td>\n",
       "      <td>8</td>\n",
       "      <td>Mild</td>\n",
       "      <td>False</td>\n",
       "      <td>False</td>\n",
       "      <td>False</td>\n",
       "      <td>False</td>\n",
       "      <td>6</td>\n",
       "      <td>Mild</td>\n",
       "      <td>False</td>\n",
       "      <td>False</td>\n",
       "      <td>False</td>\n",
       "      <td>6.0</td>\n",
       "      <td>False</td>\n",
       "    </tr>\n",
       "    <tr>\n",
       "      <th>3</th>\n",
       "      <td>1</td>\n",
       "      <td>18</td>\n",
       "      <td>female</td>\n",
       "      <td>23.738662</td>\n",
       "      <td>Normal</td>\n",
       "      <td>19</td>\n",
       "      <td>Moderately severe</td>\n",
       "      <td>True</td>\n",
       "      <td>True</td>\n",
       "      <td>False</td>\n",
       "      <td>False</td>\n",
       "      <td>15</td>\n",
       "      <td>Severe</td>\n",
       "      <td>True</td>\n",
       "      <td>False</td>\n",
       "      <td>False</td>\n",
       "      <td>11.0</td>\n",
       "      <td>True</td>\n",
       "    </tr>\n",
       "    <tr>\n",
       "      <th>4</th>\n",
       "      <td>1</td>\n",
       "      <td>18</td>\n",
       "      <td>male</td>\n",
       "      <td>25.617284</td>\n",
       "      <td>Overweight</td>\n",
       "      <td>6</td>\n",
       "      <td>Mild</td>\n",
       "      <td>False</td>\n",
       "      <td>False</td>\n",
       "      <td>False</td>\n",
       "      <td>False</td>\n",
       "      <td>14</td>\n",
       "      <td>Moderate</td>\n",
       "      <td>True</td>\n",
       "      <td>False</td>\n",
       "      <td>False</td>\n",
       "      <td>3.0</td>\n",
       "      <td>False</td>\n",
       "    </tr>\n",
       "  </tbody>\n",
       "</table>\n",
       "</div>"
      ],
      "text/plain": [
       "  school_year  age  gender        bmi     who_bmi  phq_score  \\\n",
       "0           1   19    male  33.333333       Obese          9   \n",
       "1           1   18    male  19.841270      Normal          8   \n",
       "2           1   19    male  25.102391  Overweight          8   \n",
       "3           1   18  female  23.738662      Normal         19   \n",
       "4           1   18    male  25.617284  Overweight          6   \n",
       "\n",
       "  depression_severity depressiveness suicidal depression_diagnosis  \\\n",
       "0                Mild          False    False                False   \n",
       "1                Mild          False    False                False   \n",
       "2                Mild          False    False                False   \n",
       "3   Moderately severe           True     True                False   \n",
       "4                Mild          False    False                False   \n",
       "\n",
       "  depression_treatment  gad_score anxiety_severity anxiousness  \\\n",
       "0                False         11         Moderate        True   \n",
       "1                False          5             Mild       False   \n",
       "2                False          6             Mild       False   \n",
       "3                False         15           Severe        True   \n",
       "4                False         14         Moderate        True   \n",
       "\n",
       "  anxiety_diagnosis anxiety_treatment  epworth_score sleepiness  \n",
       "0             False             False            7.0      False  \n",
       "1             False             False           14.0       True  \n",
       "2             False             False            6.0      False  \n",
       "3             False             False           11.0       True  \n",
       "4             False             False            3.0      False  "
      ]
     },
     "execution_count": 65,
     "metadata": {},
     "output_type": "execute_result"
    }
   ],
   "source": [
    "df.head()"
   ]
  },
  {
   "cell_type": "code",
   "execution_count": 66,
   "id": "989aec0f",
   "metadata": {},
   "outputs": [
    {
     "data": {
      "text/html": [
       "<div>\n",
       "<style scoped>\n",
       "    .dataframe tbody tr th:only-of-type {\n",
       "        vertical-align: middle;\n",
       "    }\n",
       "\n",
       "    .dataframe tbody tr th {\n",
       "        vertical-align: top;\n",
       "    }\n",
       "\n",
       "    .dataframe thead th {\n",
       "        text-align: right;\n",
       "    }\n",
       "</style>\n",
       "<table border=\"1\" class=\"dataframe\">\n",
       "  <thead>\n",
       "    <tr style=\"text-align: right;\">\n",
       "      <th></th>\n",
       "      <th>count</th>\n",
       "      <th>mean</th>\n",
       "      <th>std</th>\n",
       "      <th>min</th>\n",
       "      <th>25%</th>\n",
       "      <th>50%</th>\n",
       "      <th>75%</th>\n",
       "      <th>max</th>\n",
       "    </tr>\n",
       "  </thead>\n",
       "  <tbody>\n",
       "    <tr>\n",
       "      <th>age</th>\n",
       "      <td>740.0</td>\n",
       "      <td>20.270270</td>\n",
       "      <td>1.776385</td>\n",
       "      <td>18.000000</td>\n",
       "      <td>19.000000</td>\n",
       "      <td>20.000000</td>\n",
       "      <td>21.00000</td>\n",
       "      <td>31.000000</td>\n",
       "    </tr>\n",
       "    <tr>\n",
       "      <th>bmi</th>\n",
       "      <td>740.0</td>\n",
       "      <td>23.498513</td>\n",
       "      <td>3.436628</td>\n",
       "      <td>14.880952</td>\n",
       "      <td>21.037953</td>\n",
       "      <td>23.208565</td>\n",
       "      <td>25.47666</td>\n",
       "      <td>36.436645</td>\n",
       "    </tr>\n",
       "    <tr>\n",
       "      <th>phq_score</th>\n",
       "      <td>740.0</td>\n",
       "      <td>7.148649</td>\n",
       "      <td>4.426768</td>\n",
       "      <td>0.000000</td>\n",
       "      <td>4.000000</td>\n",
       "      <td>6.000000</td>\n",
       "      <td>9.00000</td>\n",
       "      <td>24.000000</td>\n",
       "    </tr>\n",
       "    <tr>\n",
       "      <th>gad_score</th>\n",
       "      <td>740.0</td>\n",
       "      <td>6.898649</td>\n",
       "      <td>4.707895</td>\n",
       "      <td>0.000000</td>\n",
       "      <td>3.000000</td>\n",
       "      <td>6.000000</td>\n",
       "      <td>10.00000</td>\n",
       "      <td>21.000000</td>\n",
       "    </tr>\n",
       "    <tr>\n",
       "      <th>epworth_score</th>\n",
       "      <td>740.0</td>\n",
       "      <td>6.336486</td>\n",
       "      <td>3.835807</td>\n",
       "      <td>0.000000</td>\n",
       "      <td>3.750000</td>\n",
       "      <td>6.000000</td>\n",
       "      <td>9.00000</td>\n",
       "      <td>24.000000</td>\n",
       "    </tr>\n",
       "  </tbody>\n",
       "</table>\n",
       "</div>"
      ],
      "text/plain": [
       "               count       mean       std        min        25%        50%  \\\n",
       "age            740.0  20.270270  1.776385  18.000000  19.000000  20.000000   \n",
       "bmi            740.0  23.498513  3.436628  14.880952  21.037953  23.208565   \n",
       "phq_score      740.0   7.148649  4.426768   0.000000   4.000000   6.000000   \n",
       "gad_score      740.0   6.898649  4.707895   0.000000   3.000000   6.000000   \n",
       "epworth_score  740.0   6.336486  3.835807   0.000000   3.750000   6.000000   \n",
       "\n",
       "                    75%        max  \n",
       "age            21.00000  31.000000  \n",
       "bmi            25.47666  36.436645  \n",
       "phq_score       9.00000  24.000000  \n",
       "gad_score      10.00000  21.000000  \n",
       "epworth_score   9.00000  24.000000  "
      ]
     },
     "execution_count": 66,
     "metadata": {},
     "output_type": "execute_result"
    }
   ],
   "source": [
    "df.describe().transpose()"
   ]
  },
  {
   "cell_type": "code",
   "execution_count": 67,
   "id": "5a78f170",
   "metadata": {},
   "outputs": [
    {
     "data": {
      "text/plain": [
       "school_year             category\n",
       "age                        int64\n",
       "gender                  category\n",
       "bmi                      float64\n",
       "who_bmi                 category\n",
       "phq_score                  int64\n",
       "depression_severity     category\n",
       "depressiveness            object\n",
       "suicidal                  object\n",
       "depression_diagnosis      object\n",
       "depression_treatment      object\n",
       "gad_score                  int64\n",
       "anxiety_severity        category\n",
       "anxiousness               object\n",
       "anxiety_diagnosis         object\n",
       "anxiety_treatment         object\n",
       "epworth_score            float64\n",
       "sleepiness                object\n",
       "dtype: object"
      ]
     },
     "execution_count": 67,
     "metadata": {},
     "output_type": "execute_result"
    }
   ],
   "source": [
    "df.dtypes"
   ]
  },
  {
   "cell_type": "code",
   "execution_count": 68,
   "id": "951dcc7e",
   "metadata": {},
   "outputs": [],
   "source": [
    "#Feature Selection using Domain Knowledge\n",
    "features_df = df.loc[:, ['school_year', 'age', 'gender', 'bmi', 'gad_score']]"
   ]
  },
  {
   "cell_type": "code",
   "execution_count": 69,
   "id": "575cb8c3",
   "metadata": {},
   "outputs": [],
   "source": [
    "#Label Encoding\n",
    "target = df.depressiveness.map({True:1, False:0})"
   ]
  },
  {
   "cell_type": "code",
   "execution_count": 70,
   "id": "c105ed02",
   "metadata": {},
   "outputs": [
    {
     "data": {
      "text/plain": [
       "0    0\n",
       "1    0\n",
       "2    0\n",
       "3    1\n",
       "4    0\n",
       "Name: depressiveness, dtype: int64"
      ]
     },
     "execution_count": 70,
     "metadata": {},
     "output_type": "execute_result"
    }
   ],
   "source": [
    "target.head()"
   ]
  },
  {
   "cell_type": "code",
   "execution_count": 71,
   "id": "5e95454a",
   "metadata": {},
   "outputs": [],
   "source": [
    "#Feature Encoding\n",
    "features_df['gender'] = features_df.gender.map({'male':1, 'female':0})"
   ]
  },
  {
   "cell_type": "code",
   "execution_count": 72,
   "id": "ea4f85de",
   "metadata": {},
   "outputs": [
    {
     "data": {
      "text/plain": [
       "0    1\n",
       "1    1\n",
       "2    1\n",
       "3    0\n",
       "4    1\n",
       "Name: gender, dtype: category\n",
       "Categories (2, int64): [0, 1]"
      ]
     },
     "execution_count": 72,
     "metadata": {},
     "output_type": "execute_result"
    }
   ],
   "source": [
    "features_df.gender.head()"
   ]
  },
  {
   "cell_type": "code",
   "execution_count": 73,
   "id": "f69318de",
   "metadata": {},
   "outputs": [
    {
     "data": {
      "text/html": [
       "<div>\n",
       "<style scoped>\n",
       "    .dataframe tbody tr th:only-of-type {\n",
       "        vertical-align: middle;\n",
       "    }\n",
       "\n",
       "    .dataframe tbody tr th {\n",
       "        vertical-align: top;\n",
       "    }\n",
       "\n",
       "    .dataframe thead th {\n",
       "        text-align: right;\n",
       "    }\n",
       "</style>\n",
       "<table border=\"1\" class=\"dataframe\">\n",
       "  <thead>\n",
       "    <tr style=\"text-align: right;\">\n",
       "      <th></th>\n",
       "      <th>school_year</th>\n",
       "      <th>age</th>\n",
       "      <th>gender</th>\n",
       "      <th>bmi</th>\n",
       "      <th>gad_score</th>\n",
       "    </tr>\n",
       "  </thead>\n",
       "  <tbody>\n",
       "    <tr>\n",
       "      <th>0</th>\n",
       "      <td>1</td>\n",
       "      <td>19</td>\n",
       "      <td>1</td>\n",
       "      <td>33.333333</td>\n",
       "      <td>11</td>\n",
       "    </tr>\n",
       "    <tr>\n",
       "      <th>1</th>\n",
       "      <td>1</td>\n",
       "      <td>18</td>\n",
       "      <td>1</td>\n",
       "      <td>19.841270</td>\n",
       "      <td>5</td>\n",
       "    </tr>\n",
       "    <tr>\n",
       "      <th>2</th>\n",
       "      <td>1</td>\n",
       "      <td>19</td>\n",
       "      <td>1</td>\n",
       "      <td>25.102391</td>\n",
       "      <td>6</td>\n",
       "    </tr>\n",
       "    <tr>\n",
       "      <th>3</th>\n",
       "      <td>1</td>\n",
       "      <td>18</td>\n",
       "      <td>0</td>\n",
       "      <td>23.738662</td>\n",
       "      <td>15</td>\n",
       "    </tr>\n",
       "    <tr>\n",
       "      <th>4</th>\n",
       "      <td>1</td>\n",
       "      <td>18</td>\n",
       "      <td>1</td>\n",
       "      <td>25.617284</td>\n",
       "      <td>14</td>\n",
       "    </tr>\n",
       "  </tbody>\n",
       "</table>\n",
       "</div>"
      ],
      "text/plain": [
       "  school_year  age gender        bmi  gad_score\n",
       "0           1   19      1  33.333333         11\n",
       "1           1   18      1  19.841270          5\n",
       "2           1   19      1  25.102391          6\n",
       "3           1   18      0  23.738662         15\n",
       "4           1   18      1  25.617284         14"
      ]
     },
     "execution_count": 73,
     "metadata": {},
     "output_type": "execute_result"
    }
   ],
   "source": [
    "features_df.head()"
   ]
  },
  {
   "cell_type": "code",
   "execution_count": 74,
   "id": "52a6ce07",
   "metadata": {},
   "outputs": [
    {
     "data": {
      "text/plain": [
       "(740,)"
      ]
     },
     "execution_count": 74,
     "metadata": {},
     "output_type": "execute_result"
    }
   ],
   "source": [
    "target.values.shape"
   ]
  },
  {
   "cell_type": "code",
   "execution_count": 75,
   "id": "bd6530ac",
   "metadata": {},
   "outputs": [
    {
     "data": {
      "text/plain": [
       "array([0.57381994, 0.3062225 ])"
      ]
     },
     "execution_count": 75,
     "metadata": {},
     "output_type": "execute_result"
    }
   ],
   "source": [
    "#Using PCA to identify feature importance\n",
    "pca = PCA(n_components=2, random_state=100)\n",
    "pca.fit_transform(features_df.values)\n",
    "pca.explained_variance_ratio_"
   ]
  },
  {
   "cell_type": "code",
   "execution_count": 76,
   "id": "78603d40",
   "metadata": {},
   "outputs": [
    {
     "data": {
      "text/plain": [
       "gad_score      0.518993\n",
       "bmi            0.515613\n",
       "age            0.061953\n",
       "gender         0.027197\n",
       "school_year    0.023737\n",
       "dtype: float64"
      ]
     },
     "execution_count": 76,
     "metadata": {},
     "output_type": "execute_result"
    }
   ],
   "source": [
    "#Feature Importance in Descending Order\n",
    "pd.DataFrame(abs(pca.components_), columns=features_df.columns).mean().sort_values(ascending=False)"
   ]
  },
  {
   "cell_type": "code",
   "execution_count": 77,
   "id": "7ed31434",
   "metadata": {},
   "outputs": [],
   "source": [
    "X = features_df[['age', 'bmi', 'gad_score']].values #Feature Selection using PCA\n",
    "y = target.values "
   ]
  },
  {
   "cell_type": "code",
   "execution_count": 78,
   "id": "ff56f95f",
   "metadata": {},
   "outputs": [],
   "source": [
    "#Splitting data into training and test set\n",
    "X_train, X_test, y_train, y_test = train_test_split(X, y, test_size=0.2, stratify=y)"
   ]
  },
  {
   "cell_type": "code",
   "execution_count": 79,
   "id": "e0ad4f3e",
   "metadata": {},
   "outputs": [],
   "source": [
    "#Feature Scaling(Standardization)\n",
    "scaler = StandardScaler()\n",
    "X_train_scaled = scaler.fit_transform(X_train)\n",
    "X_test_scaled = scaler.transform(X_test)\n"
   ]
  },
  {
   "cell_type": "markdown",
   "id": "cf233457",
   "metadata": {},
   "source": [
    "# MODEL TRAINING AND TESTING"
   ]
  },
  {
   "cell_type": "markdown",
   "id": "59470604",
   "metadata": {},
   "source": [
    "This phase of the Data Science workflow is performed under the following steps:\n",
    "1. Obtaining best classifier using Cross Validation\n",
    "2. Handling Class Imbalance with SMOTE and RandomUndersampler (using a pipeline)\n",
    "3. Fitting model to data (using a pipeline)\n",
    "4. Testing model performance"
   ]
  },
  {
   "cell_type": "code",
   "execution_count": 80,
   "id": "99450884",
   "metadata": {},
   "outputs": [
    {
     "data": {
      "image/png": "[encoded data removed]",
      "text/plain": [
       "<Figure size 720x576 with 1 Axes>"
      ]
     },
     "metadata": {},
     "output_type": "display_data"
    }
   ],
   "source": [
    "#Cross Validation to obtain best model\n",
    "models = {'Logistic Regression':LogisticRegression(), 'KNN':KNeighborsClassifier(), 'Decision Tree':DecisionTreeClassifier()}\n",
    "metrics = []\n",
    "for model in models.values():\n",
    "    kf = KFold(n_splits=10, shuffle=True)\n",
    "    cv_score = cross_val_score(model, X_train_scaled, y_train, cv=kf)\n",
    "    metrics.append(cv_score)\n",
    "plt.boxplot(metrics, labels=models.keys())\n",
    "plt.show()"
   ]
  },
  {
   "cell_type": "code",
   "execution_count": 81,
   "id": "0094f392",
   "metadata": {},
   "outputs": [],
   "source": [
    "#Handling class imbalance with SMOTE and RandomUnderSampler\n",
    "steps = [('smote', SMOTE()), ('under', RandomUnderSampler()), ('logreg', LogisticRegression())]"
   ]
  },
  {
   "cell_type": "code",
   "execution_count": 82,
   "id": "1c72b8f4",
   "metadata": {},
   "outputs": [],
   "source": [
    "#Instantiating Pipeline object\n",
    "pipeline = Pipeline(steps=steps)"
   ]
  },
  {
   "cell_type": "code",
   "execution_count": 83,
   "id": "c4d78e10",
   "metadata": {},
   "outputs": [
    {
     "data": {
      "text/plain": [
       "Pipeline(steps=[('smote', SMOTE()), ('under', RandomUnderSampler()),\n",
       "                ('logreg', LogisticRegression())])"
      ]
     },
     "execution_count": 83,
     "metadata": {},
     "output_type": "execute_result"
    }
   ],
   "source": [
    "pipeline.fit(X_train_scaled, y_train)"
   ]
  },
  {
   "cell_type": "code",
   "execution_count": 84,
   "id": "88022acd",
   "metadata": {},
   "outputs": [],
   "source": [
    "y_pred = pipeline.predict(X_test_scaled)"
   ]
  },
  {
   "cell_type": "code",
   "execution_count": 85,
   "id": "9a8a3ce9",
   "metadata": {},
   "outputs": [
    {
     "name": "stdout",
     "output_type": "stream",
     "text": [
      "              precision    recall  f1-score   support\n",
      "\n",
      "           0       0.89      0.87      0.88       108\n",
      "           1       0.67      0.70      0.68        40\n",
      "\n",
      "    accuracy                           0.82       148\n",
      "   macro avg       0.78      0.79      0.78       148\n",
      "weighted avg       0.83      0.82      0.83       148\n",
      "\n"
     ]
    }
   ],
   "source": [
    "#Checking Model Performance\n",
    "print(classification_report(y_test, y_pred))"
   ]
  },
  {
   "cell_type": "code",
   "execution_count": 86,
   "id": "bbf3835a",
   "metadata": {},
   "outputs": [
    {
     "data": {
      "image/png": "[encoded data removed]",
      "text/plain": [
       "<Figure size 720x576 with 2 Axes>"
      ]
     },
     "metadata": {},
     "output_type": "display_data"
    }
   ],
   "source": [
    "sns.heatmap(confusion_matrix(y_test, y_pred), annot=True)\n",
    "plt.xlabel(\"Predicted\")\n",
    "plt.ylabel(\"Actual\")\n",
    "plt.title(\"Confusion Matrix\")\n",
    "plt.show()"
   ]
  },
  {
   "cell_type": "code",
   "execution_count": 87,
   "id": "e3de3a9e",
   "metadata": {},
   "outputs": [
    {
     "data": {
      "text/plain": [
       "0.7851851851851852"
      ]
     },
     "execution_count": 87,
     "metadata": {},
     "output_type": "execute_result"
    }
   ],
   "source": [
    "#Area Under ROC curve\n",
    "roc_auc_score(y_test, y_pred)"
   ]
  }
 ],
 "metadata": {
  "kernelspec": {
   "display_name": "Python 3 (ipykernel)",
   "language": "python",
   "name": "python3"
  },
  "language_info": {
   "codemirror_mode": {
    "name": "ipython",
    "version": 3
   },
   "file_extension": ".py",
   "mimetype": "text/x-python",
   "name": "python",
   "nbconvert_exporter": "python",
   "pygments_lexer": "ipython3",
   "version": "3.9.12"
  },
  "vscode": {
   "interpreter": {
    "hash": "a077222d77dfe082b8f1dd562ad70e458ac2ab76993a0b248ab0476e32e9e8dd"
   }
  }
 },
 "nbformat": 4,
 "nbformat_minor": 5
}
